{
 "cells": [
  {
   "cell_type": "code",
   "execution_count": 60,
   "outputs": [],
   "source": [
    "import pandas as pd"
   ],
   "metadata": {
    "collapsed": false,
    "pycharm": {
     "name": "#%%\n"
    }
   }
  },
  {
   "cell_type": "code",
   "execution_count": 61,
   "outputs": [
    {
     "data": {
      "text/plain": "   0   1        2        3        4        5        6        7        8   \\\n0   1   0  0.99539 -0.05889  0.85243  0.02306  0.83398 -0.37708  1.00000   \n1   1   0  1.00000 -0.18829  0.93035 -0.36156 -0.10868 -0.93597  1.00000   \n2   1   0  1.00000 -0.03365  1.00000  0.00485  1.00000 -0.12062  0.88965   \n3   1   0  1.00000 -0.45161  1.00000  1.00000  0.71216 -1.00000  0.00000   \n4   1   0  1.00000 -0.02401  0.94140  0.06531  0.92106 -0.23255  0.77152   \n\n        9   ...       25       26       27       28       29       30  \\\n0  0.03760  ... -0.51171  0.41078 -0.46168  0.21266 -0.34090  0.42267   \n1 -0.04549  ... -0.26569 -0.20468 -0.18401 -0.19040 -0.11593 -0.16626   \n2  0.01198  ... -0.40220  0.58984 -0.22145  0.43100 -0.17365  0.60436   \n3  0.00000  ...  0.90695  0.51613  1.00000  1.00000 -0.20099  0.25682   \n4 -0.16399  ... -0.65158  0.13290 -0.53206  0.02431 -0.62197 -0.05707   \n\n        31       32       33  34  \n0 -0.54487  0.18641 -0.45300   g  \n1 -0.06288 -0.13738 -0.02447   b  \n2 -0.24180  0.56045 -0.38238   g  \n3  1.00000 -0.32382  1.00000   b  \n4 -0.59573 -0.04608 -0.65697   g  \n\n[5 rows x 35 columns]",
      "text/html": "<div>\n<style scoped>\n    .dataframe tbody tr th:only-of-type {\n        vertical-align: middle;\n    }\n\n    .dataframe tbody tr th {\n        vertical-align: top;\n    }\n\n    .dataframe thead th {\n        text-align: right;\n    }\n</style>\n<table border=\"1\" class=\"dataframe\">\n  <thead>\n    <tr style=\"text-align: right;\">\n      <th></th>\n      <th>0</th>\n      <th>1</th>\n      <th>2</th>\n      <th>3</th>\n      <th>4</th>\n      <th>5</th>\n      <th>6</th>\n      <th>7</th>\n      <th>8</th>\n      <th>9</th>\n      <th>...</th>\n      <th>25</th>\n      <th>26</th>\n      <th>27</th>\n      <th>28</th>\n      <th>29</th>\n      <th>30</th>\n      <th>31</th>\n      <th>32</th>\n      <th>33</th>\n      <th>34</th>\n    </tr>\n  </thead>\n  <tbody>\n    <tr>\n      <th>0</th>\n      <td>1</td>\n      <td>0</td>\n      <td>0.99539</td>\n      <td>-0.05889</td>\n      <td>0.85243</td>\n      <td>0.02306</td>\n      <td>0.83398</td>\n      <td>-0.37708</td>\n      <td>1.00000</td>\n      <td>0.03760</td>\n      <td>...</td>\n      <td>-0.51171</td>\n      <td>0.41078</td>\n      <td>-0.46168</td>\n      <td>0.21266</td>\n      <td>-0.34090</td>\n      <td>0.42267</td>\n      <td>-0.54487</td>\n      <td>0.18641</td>\n      <td>-0.45300</td>\n      <td>g</td>\n    </tr>\n    <tr>\n      <th>1</th>\n      <td>1</td>\n      <td>0</td>\n      <td>1.00000</td>\n      <td>-0.18829</td>\n      <td>0.93035</td>\n      <td>-0.36156</td>\n      <td>-0.10868</td>\n      <td>-0.93597</td>\n      <td>1.00000</td>\n      <td>-0.04549</td>\n      <td>...</td>\n      <td>-0.26569</td>\n      <td>-0.20468</td>\n      <td>-0.18401</td>\n      <td>-0.19040</td>\n      <td>-0.11593</td>\n      <td>-0.16626</td>\n      <td>-0.06288</td>\n      <td>-0.13738</td>\n      <td>-0.02447</td>\n      <td>b</td>\n    </tr>\n    <tr>\n      <th>2</th>\n      <td>1</td>\n      <td>0</td>\n      <td>1.00000</td>\n      <td>-0.03365</td>\n      <td>1.00000</td>\n      <td>0.00485</td>\n      <td>1.00000</td>\n      <td>-0.12062</td>\n      <td>0.88965</td>\n      <td>0.01198</td>\n      <td>...</td>\n      <td>-0.40220</td>\n      <td>0.58984</td>\n      <td>-0.22145</td>\n      <td>0.43100</td>\n      <td>-0.17365</td>\n      <td>0.60436</td>\n      <td>-0.24180</td>\n      <td>0.56045</td>\n      <td>-0.38238</td>\n      <td>g</td>\n    </tr>\n    <tr>\n      <th>3</th>\n      <td>1</td>\n      <td>0</td>\n      <td>1.00000</td>\n      <td>-0.45161</td>\n      <td>1.00000</td>\n      <td>1.00000</td>\n      <td>0.71216</td>\n      <td>-1.00000</td>\n      <td>0.00000</td>\n      <td>0.00000</td>\n      <td>...</td>\n      <td>0.90695</td>\n      <td>0.51613</td>\n      <td>1.00000</td>\n      <td>1.00000</td>\n      <td>-0.20099</td>\n      <td>0.25682</td>\n      <td>1.00000</td>\n      <td>-0.32382</td>\n      <td>1.00000</td>\n      <td>b</td>\n    </tr>\n    <tr>\n      <th>4</th>\n      <td>1</td>\n      <td>0</td>\n      <td>1.00000</td>\n      <td>-0.02401</td>\n      <td>0.94140</td>\n      <td>0.06531</td>\n      <td>0.92106</td>\n      <td>-0.23255</td>\n      <td>0.77152</td>\n      <td>-0.16399</td>\n      <td>...</td>\n      <td>-0.65158</td>\n      <td>0.13290</td>\n      <td>-0.53206</td>\n      <td>0.02431</td>\n      <td>-0.62197</td>\n      <td>-0.05707</td>\n      <td>-0.59573</td>\n      <td>-0.04608</td>\n      <td>-0.65697</td>\n      <td>g</td>\n    </tr>\n  </tbody>\n</table>\n<p>5 rows × 35 columns</p>\n</div>"
     },
     "execution_count": 61,
     "metadata": {},
     "output_type": "execute_result"
    }
   ],
   "source": [
    "# importing data\n",
    "df=pd.read_csv('../../data/ionosphere.data', header=None)\n",
    "df.head()"
   ],
   "metadata": {
    "collapsed": false,
    "pycharm": {
     "name": "#%%\n"
    }
   }
  },
  {
   "cell_type": "code",
   "execution_count": 62,
   "outputs": [],
   "source": [
    "# iterating through the raw data and fetching the good attributes\n",
    "for i in range(0,351):\n",
    "    # 34 features are continuous, 35th is either G or B\n",
    "    if df.loc[i,34] == 'g':\n",
    "        df.loc[i,34] = 1\n",
    "    else:\n",
    "        df.loc[i,34] = 0\n",
    "\n",
    "# location base selecting\n",
    "inputs=df.iloc[:,:32]\n",
    "target=df.iloc[:,33]\n",
    "target=target.astype('int')"
   ],
   "metadata": {
    "collapsed": false,
    "pycharm": {
     "name": "#%%\n"
    }
   }
  },
  {
   "cell_type": "code",
   "execution_count": 63,
   "outputs": [],
   "source": [
    "# splitting the dataset into the Training set and Test set\n",
    "from sklearn.model_selection import train_test_split\n",
    "x_train, x_test, y_train, y_test = train_test_split(inputs, target, test_size=0.3)"
   ],
   "metadata": {
    "collapsed": false,
    "pycharm": {
     "name": "#%%\n"
    }
   }
  },
  {
   "cell_type": "code",
   "execution_count": 64,
   "outputs": [
    {
     "data": {
      "text/plain": "GaussianNB()",
      "text/html": "<style>#sk-container-id-5 {color: black;background-color: white;}#sk-container-id-5 pre{padding: 0;}#sk-container-id-5 div.sk-toggleable {background-color: white;}#sk-container-id-5 label.sk-toggleable__label {cursor: pointer;display: block;width: 100%;margin-bottom: 0;padding: 0.3em;box-sizing: border-box;text-align: center;}#sk-container-id-5 label.sk-toggleable__label-arrow:before {content: \"▸\";float: left;margin-right: 0.25em;color: #696969;}#sk-container-id-5 label.sk-toggleable__label-arrow:hover:before {color: black;}#sk-container-id-5 div.sk-estimator:hover label.sk-toggleable__label-arrow:before {color: black;}#sk-container-id-5 div.sk-toggleable__content {max-height: 0;max-width: 0;overflow: hidden;text-align: left;background-color: #f0f8ff;}#sk-container-id-5 div.sk-toggleable__content pre {margin: 0.2em;color: black;border-radius: 0.25em;background-color: #f0f8ff;}#sk-container-id-5 input.sk-toggleable__control:checked~div.sk-toggleable__content {max-height: 200px;max-width: 100%;overflow: auto;}#sk-container-id-5 input.sk-toggleable__control:checked~label.sk-toggleable__label-arrow:before {content: \"▾\";}#sk-container-id-5 div.sk-estimator input.sk-toggleable__control:checked~label.sk-toggleable__label {background-color: #d4ebff;}#sk-container-id-5 div.sk-label input.sk-toggleable__control:checked~label.sk-toggleable__label {background-color: #d4ebff;}#sk-container-id-5 input.sk-hidden--visually {border: 0;clip: rect(1px 1px 1px 1px);clip: rect(1px, 1px, 1px, 1px);height: 1px;margin: -1px;overflow: hidden;padding: 0;position: absolute;width: 1px;}#sk-container-id-5 div.sk-estimator {font-family: monospace;background-color: #f0f8ff;border: 1px dotted black;border-radius: 0.25em;box-sizing: border-box;margin-bottom: 0.5em;}#sk-container-id-5 div.sk-estimator:hover {background-color: #d4ebff;}#sk-container-id-5 div.sk-parallel-item::after {content: \"\";width: 100%;border-bottom: 1px solid gray;flex-grow: 1;}#sk-container-id-5 div.sk-label:hover label.sk-toggleable__label {background-color: #d4ebff;}#sk-container-id-5 div.sk-serial::before {content: \"\";position: absolute;border-left: 1px solid gray;box-sizing: border-box;top: 0;bottom: 0;left: 50%;z-index: 0;}#sk-container-id-5 div.sk-serial {display: flex;flex-direction: column;align-items: center;background-color: white;padding-right: 0.2em;padding-left: 0.2em;position: relative;}#sk-container-id-5 div.sk-item {position: relative;z-index: 1;}#sk-container-id-5 div.sk-parallel {display: flex;align-items: stretch;justify-content: center;background-color: white;position: relative;}#sk-container-id-5 div.sk-item::before, #sk-container-id-5 div.sk-parallel-item::before {content: \"\";position: absolute;border-left: 1px solid gray;box-sizing: border-box;top: 0;bottom: 0;left: 50%;z-index: -1;}#sk-container-id-5 div.sk-parallel-item {display: flex;flex-direction: column;z-index: 1;position: relative;background-color: white;}#sk-container-id-5 div.sk-parallel-item:first-child::after {align-self: flex-end;width: 50%;}#sk-container-id-5 div.sk-parallel-item:last-child::after {align-self: flex-start;width: 50%;}#sk-container-id-5 div.sk-parallel-item:only-child::after {width: 0;}#sk-container-id-5 div.sk-dashed-wrapped {border: 1px dashed gray;margin: 0 0.4em 0.5em 0.4em;box-sizing: border-box;padding-bottom: 0.4em;background-color: white;}#sk-container-id-5 div.sk-label label {font-family: monospace;font-weight: bold;display: inline-block;line-height: 1.2em;}#sk-container-id-5 div.sk-label-container {text-align: center;}#sk-container-id-5 div.sk-container {/* jupyter's `normalize.less` sets `[hidden] { display: none; }` but bootstrap.min.css set `[hidden] { display: none !important; }` so we also need the `!important` here to be able to override the default hidden behavior on the sphinx rendered scikit-learn.org. See: https://github.com/scikit-learn/scikit-learn/issues/21755 */display: inline-block !important;position: relative;}#sk-container-id-5 div.sk-text-repr-fallback {display: none;}</style><div id=\"sk-container-id-5\" class=\"sk-top-container\"><div class=\"sk-text-repr-fallback\"><pre>GaussianNB()</pre><b>In a Jupyter environment, please rerun this cell to show the HTML representation or trust the notebook. <br />On GitHub, the HTML representation is unable to render, please try loading this page with nbviewer.org.</b></div><div class=\"sk-container\" hidden><div class=\"sk-item\"><div class=\"sk-estimator sk-toggleable\"><input class=\"sk-toggleable__control sk-hidden--visually\" id=\"sk-estimator-id-5\" type=\"checkbox\" checked><label for=\"sk-estimator-id-5\" class=\"sk-toggleable__label sk-toggleable__label-arrow\">GaussianNB</label><div class=\"sk-toggleable__content\"><pre>GaussianNB()</pre></div></div></div></div></div>"
     },
     "execution_count": 64,
     "metadata": {},
     "output_type": "execute_result"
    }
   ],
   "source": [
    "# fitting Naive Bayes Classification to the Training set with linear kernel\n",
    "from sklearn.naive_bayes import GaussianNB\n",
    "model=GaussianNB()\n",
    "model.fit(x_train, y_train)"
   ],
   "metadata": {
    "collapsed": false,
    "pycharm": {
     "name": "#%%\n"
    }
   }
  },
  {
   "cell_type": "code",
   "execution_count": 65,
   "outputs": [
    {
     "data": {
      "text/plain": "0.839622641509434"
     },
     "execution_count": 65,
     "metadata": {},
     "output_type": "execute_result"
    }
   ],
   "source": [
    "# returning the mean accuracy of the good attributes\n",
    "model.score(x_test, y_test)"
   ],
   "metadata": {
    "collapsed": false,
    "pycharm": {
     "name": "#%%\n"
    }
   }
  },
  {
   "cell_type": "code",
   "execution_count": 71,
   "outputs": [
    {
     "data": {
      "text/plain": "     0   1        2        3        4        5        6        7        8   \\\n185   1   0  0.84177  0.43460  0.50000  0.76160  0.09916  0.93460 -0.37764   \n25    1   0  1.00000  0.57820  1.00000 -1.00000  1.00000 -1.00000  1.00000   \n207   1   0  0.47368 -0.10526  0.83781  0.01756  0.83155  0.02615  0.68421   \n261   1   0  0.79830  0.09417  0.78129  0.20656  0.71628  0.28068  0.69320   \n292   1   0  0.84713 -0.03397  0.86412 -0.08493  0.81953  0.00000  0.73673   \n..   ..  ..      ...      ...      ...      ...      ...      ...      ...   \n170   0   0 -1.00000  1.00000  1.00000  1.00000  0.00000  0.00000  1.00000   \n276   1   0  0.60678 -0.02712  0.67119  0.04068  0.52881 -0.04407  0.50508   \n291   1   0  0.59887  0.14689  0.69868 -0.13936  0.85122 -0.13936  0.80979   \n247   1   0  0.49870  0.01818  0.43117 -0.09610  0.50649 -0.04156  0.50130   \n32    1   0  0.88208 -0.14639  0.93408 -0.11057  0.92100 -0.16450  0.88307   \n\n          9   ...       22       23       24       25       26       27  \\\n185  0.88186  ...  0.51477 -0.66878  0.74895 -0.28903  0.77937  0.07933   \n25  -1.00000  ...  1.00000 -1.00000  1.00000 -1.00000  1.00000 -1.00000   \n207 -0.05263  ...  0.70301  0.08141  0.42105  0.21053  0.65419  0.08968   \n261  0.41252  ...  0.02066  0.72236 -0.08748  0.63183 -0.11925  0.60696   \n292 -0.07643  ...  0.89384 -0.03397  0.84926 -0.26115  0.74115 -0.23312   \n..       ...  ...      ...      ...      ...      ...      ...      ...   \n170 -1.00000  ...  0.00000  0.00000 -1.00000 -1.00000  1.00000 -1.00000   \n276  0.03729  ...  0.71525 -0.03390  0.52881 -0.03390  0.57262  0.00750   \n291  0.02448  ...  0.33333  0.06215  0.56121 -0.33145  0.61444 -0.16837   \n247  0.09610  ...  0.49091 -0.01039  0.59221  0.00000  0.53215 -0.03280   \n32  -0.17036  ...  0.66150 -0.50085  0.61297 -0.48086  0.56804 -0.54629   \n\n          28       29       30       31  \n185  0.64135  0.42827  0.31435  0.62447  \n25   1.00000 -1.00000  1.00000 -1.00000  \n207  0.52632 -0.21053  0.60150  0.09534  \n261 -0.18226  0.56015 -0.25516  0.51701  \n292  0.66242 -0.22293  0.72611 -0.37792  \n..       ...      ...      ...      ...  \n170  1.00000  1.00000 -1.00000 -1.00000  \n276  0.58644 -0.00339  0.58983 -0.02712  \n291  0.52731 -0.02072  0.53861 -0.31262  \n247  0.43117  0.03377  0.54545 -0.05455  \n32   0.50179 -0.59854  0.47075 -0.57377  \n\n[245 rows x 32 columns]",
      "text/html": "<div>\n<style scoped>\n    .dataframe tbody tr th:only-of-type {\n        vertical-align: middle;\n    }\n\n    .dataframe tbody tr th {\n        vertical-align: top;\n    }\n\n    .dataframe thead th {\n        text-align: right;\n    }\n</style>\n<table border=\"1\" class=\"dataframe\">\n  <thead>\n    <tr style=\"text-align: right;\">\n      <th></th>\n      <th>0</th>\n      <th>1</th>\n      <th>2</th>\n      <th>3</th>\n      <th>4</th>\n      <th>5</th>\n      <th>6</th>\n      <th>7</th>\n      <th>8</th>\n      <th>9</th>\n      <th>...</th>\n      <th>22</th>\n      <th>23</th>\n      <th>24</th>\n      <th>25</th>\n      <th>26</th>\n      <th>27</th>\n      <th>28</th>\n      <th>29</th>\n      <th>30</th>\n      <th>31</th>\n    </tr>\n  </thead>\n  <tbody>\n    <tr>\n      <th>185</th>\n      <td>1</td>\n      <td>0</td>\n      <td>0.84177</td>\n      <td>0.43460</td>\n      <td>0.50000</td>\n      <td>0.76160</td>\n      <td>0.09916</td>\n      <td>0.93460</td>\n      <td>-0.37764</td>\n      <td>0.88186</td>\n      <td>...</td>\n      <td>0.51477</td>\n      <td>-0.66878</td>\n      <td>0.74895</td>\n      <td>-0.28903</td>\n      <td>0.77937</td>\n      <td>0.07933</td>\n      <td>0.64135</td>\n      <td>0.42827</td>\n      <td>0.31435</td>\n      <td>0.62447</td>\n    </tr>\n    <tr>\n      <th>25</th>\n      <td>1</td>\n      <td>0</td>\n      <td>1.00000</td>\n      <td>0.57820</td>\n      <td>1.00000</td>\n      <td>-1.00000</td>\n      <td>1.00000</td>\n      <td>-1.00000</td>\n      <td>1.00000</td>\n      <td>-1.00000</td>\n      <td>...</td>\n      <td>1.00000</td>\n      <td>-1.00000</td>\n      <td>1.00000</td>\n      <td>-1.00000</td>\n      <td>1.00000</td>\n      <td>-1.00000</td>\n      <td>1.00000</td>\n      <td>-1.00000</td>\n      <td>1.00000</td>\n      <td>-1.00000</td>\n    </tr>\n    <tr>\n      <th>207</th>\n      <td>1</td>\n      <td>0</td>\n      <td>0.47368</td>\n      <td>-0.10526</td>\n      <td>0.83781</td>\n      <td>0.01756</td>\n      <td>0.83155</td>\n      <td>0.02615</td>\n      <td>0.68421</td>\n      <td>-0.05263</td>\n      <td>...</td>\n      <td>0.70301</td>\n      <td>0.08141</td>\n      <td>0.42105</td>\n      <td>0.21053</td>\n      <td>0.65419</td>\n      <td>0.08968</td>\n      <td>0.52632</td>\n      <td>-0.21053</td>\n      <td>0.60150</td>\n      <td>0.09534</td>\n    </tr>\n    <tr>\n      <th>261</th>\n      <td>1</td>\n      <td>0</td>\n      <td>0.79830</td>\n      <td>0.09417</td>\n      <td>0.78129</td>\n      <td>0.20656</td>\n      <td>0.71628</td>\n      <td>0.28068</td>\n      <td>0.69320</td>\n      <td>0.41252</td>\n      <td>...</td>\n      <td>0.02066</td>\n      <td>0.72236</td>\n      <td>-0.08748</td>\n      <td>0.63183</td>\n      <td>-0.11925</td>\n      <td>0.60696</td>\n      <td>-0.18226</td>\n      <td>0.56015</td>\n      <td>-0.25516</td>\n      <td>0.51701</td>\n    </tr>\n    <tr>\n      <th>292</th>\n      <td>1</td>\n      <td>0</td>\n      <td>0.84713</td>\n      <td>-0.03397</td>\n      <td>0.86412</td>\n      <td>-0.08493</td>\n      <td>0.81953</td>\n      <td>0.00000</td>\n      <td>0.73673</td>\n      <td>-0.07643</td>\n      <td>...</td>\n      <td>0.89384</td>\n      <td>-0.03397</td>\n      <td>0.84926</td>\n      <td>-0.26115</td>\n      <td>0.74115</td>\n      <td>-0.23312</td>\n      <td>0.66242</td>\n      <td>-0.22293</td>\n      <td>0.72611</td>\n      <td>-0.37792</td>\n    </tr>\n    <tr>\n      <th>...</th>\n      <td>...</td>\n      <td>...</td>\n      <td>...</td>\n      <td>...</td>\n      <td>...</td>\n      <td>...</td>\n      <td>...</td>\n      <td>...</td>\n      <td>...</td>\n      <td>...</td>\n      <td>...</td>\n      <td>...</td>\n      <td>...</td>\n      <td>...</td>\n      <td>...</td>\n      <td>...</td>\n      <td>...</td>\n      <td>...</td>\n      <td>...</td>\n      <td>...</td>\n      <td>...</td>\n    </tr>\n    <tr>\n      <th>170</th>\n      <td>0</td>\n      <td>0</td>\n      <td>-1.00000</td>\n      <td>1.00000</td>\n      <td>1.00000</td>\n      <td>1.00000</td>\n      <td>0.00000</td>\n      <td>0.00000</td>\n      <td>1.00000</td>\n      <td>-1.00000</td>\n      <td>...</td>\n      <td>0.00000</td>\n      <td>0.00000</td>\n      <td>-1.00000</td>\n      <td>-1.00000</td>\n      <td>1.00000</td>\n      <td>-1.00000</td>\n      <td>1.00000</td>\n      <td>1.00000</td>\n      <td>-1.00000</td>\n      <td>-1.00000</td>\n    </tr>\n    <tr>\n      <th>276</th>\n      <td>1</td>\n      <td>0</td>\n      <td>0.60678</td>\n      <td>-0.02712</td>\n      <td>0.67119</td>\n      <td>0.04068</td>\n      <td>0.52881</td>\n      <td>-0.04407</td>\n      <td>0.50508</td>\n      <td>0.03729</td>\n      <td>...</td>\n      <td>0.71525</td>\n      <td>-0.03390</td>\n      <td>0.52881</td>\n      <td>-0.03390</td>\n      <td>0.57262</td>\n      <td>0.00750</td>\n      <td>0.58644</td>\n      <td>-0.00339</td>\n      <td>0.58983</td>\n      <td>-0.02712</td>\n    </tr>\n    <tr>\n      <th>291</th>\n      <td>1</td>\n      <td>0</td>\n      <td>0.59887</td>\n      <td>0.14689</td>\n      <td>0.69868</td>\n      <td>-0.13936</td>\n      <td>0.85122</td>\n      <td>-0.13936</td>\n      <td>0.80979</td>\n      <td>0.02448</td>\n      <td>...</td>\n      <td>0.33333</td>\n      <td>0.06215</td>\n      <td>0.56121</td>\n      <td>-0.33145</td>\n      <td>0.61444</td>\n      <td>-0.16837</td>\n      <td>0.52731</td>\n      <td>-0.02072</td>\n      <td>0.53861</td>\n      <td>-0.31262</td>\n    </tr>\n    <tr>\n      <th>247</th>\n      <td>1</td>\n      <td>0</td>\n      <td>0.49870</td>\n      <td>0.01818</td>\n      <td>0.43117</td>\n      <td>-0.09610</td>\n      <td>0.50649</td>\n      <td>-0.04156</td>\n      <td>0.50130</td>\n      <td>0.09610</td>\n      <td>...</td>\n      <td>0.49091</td>\n      <td>-0.01039</td>\n      <td>0.59221</td>\n      <td>0.00000</td>\n      <td>0.53215</td>\n      <td>-0.03280</td>\n      <td>0.43117</td>\n      <td>0.03377</td>\n      <td>0.54545</td>\n      <td>-0.05455</td>\n    </tr>\n    <tr>\n      <th>32</th>\n      <td>1</td>\n      <td>0</td>\n      <td>0.88208</td>\n      <td>-0.14639</td>\n      <td>0.93408</td>\n      <td>-0.11057</td>\n      <td>0.92100</td>\n      <td>-0.16450</td>\n      <td>0.88307</td>\n      <td>-0.17036</td>\n      <td>...</td>\n      <td>0.66150</td>\n      <td>-0.50085</td>\n      <td>0.61297</td>\n      <td>-0.48086</td>\n      <td>0.56804</td>\n      <td>-0.54629</td>\n      <td>0.50179</td>\n      <td>-0.59854</td>\n      <td>0.47075</td>\n      <td>-0.57377</td>\n    </tr>\n  </tbody>\n</table>\n<p>245 rows × 32 columns</p>\n</div>"
     },
     "execution_count": 71,
     "metadata": {},
     "output_type": "execute_result"
    }
   ],
   "source": [
    "x_train"
   ],
   "metadata": {
    "collapsed": false,
    "pycharm": {
     "name": "#%%\n"
    }
   }
  },
  {
   "cell_type": "code",
   "execution_count": 72,
   "outputs": [
    {
     "data": {
      "text/plain": "185    0\n25    -1\n207    0\n261    0\n292    0\n      ..\n170    0\n276    0\n291    0\n247    0\n32     0\nName: 33, Length: 245, dtype: int64"
     },
     "execution_count": 72,
     "metadata": {},
     "output_type": "execute_result"
    }
   ],
   "source": [
    "y_train"
   ],
   "metadata": {
    "collapsed": false,
    "pycharm": {
     "name": "#%%\n"
    }
   }
  },
  {
   "cell_type": "code",
   "execution_count": null,
   "outputs": [],
   "source": [],
   "metadata": {
    "collapsed": false,
    "pycharm": {
     "name": "#%%\n"
    }
   }
  }
 ],
 "metadata": {
  "kernelspec": {
   "display_name": "Python 3",
   "language": "python",
   "name": "python3"
  },
  "language_info": {
   "codemirror_mode": {
    "name": "ipython",
    "version": 2
   },
   "file_extension": ".py",
   "mimetype": "text/x-python",
   "name": "python",
   "nbconvert_exporter": "python",
   "pygments_lexer": "ipython2",
   "version": "2.7.6"
  }
 },
 "nbformat": 4,
 "nbformat_minor": 0
}