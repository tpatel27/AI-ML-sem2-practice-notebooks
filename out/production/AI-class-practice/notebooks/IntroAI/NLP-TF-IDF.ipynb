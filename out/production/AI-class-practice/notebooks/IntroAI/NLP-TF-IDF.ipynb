{
 "cells": [
  {
   "cell_type": "markdown",
   "id": "9e19293f",
   "metadata": {
    "id": "9e19293f",
    "pycharm": {
     "name": "#%% md\n"
    }
   },
   "source": [
    "<h2 align='center'>NLP Tutorial - Text Representation: TF-IDF</h2>"
   ]
  },
  {
   "cell_type": "markdown",
   "id": "4ab6ace7",
   "metadata": {
    "id": "4ab6ace7",
    "pycharm": {
     "name": "#%% md\n"
    }
   },
   "source": [
    "### What is TF-IDF?\n",
    "\n",
    "- TF stands for **Term Frequency** and denotes the ratio of  number of times a particular word appeared in a Document to total number of words in the document.\n",
    "          \n",
    "         Term Frequency(TF) = [number of times word appeared / total no of words in a document]\n",
    " \n",
    "- Term Frequency values ranges between 0 and 1. If a word occurs more number of times, then it's value will be close to 1.\n",
    "\n",
    "\n",
    "- IDF stands for **Inverse Document Frequency** and denotes the log of ratio of total number of documents/datapoints in the whole dataset to the number of documents that contains the particular word.\n",
    "\n",
    "         Inverse Document Frequency(IDF) = [log(Total number of documents / number of documents that contains the word)]\n",
    "        \n",
    "- In IDF, if a word occured in more number of documents and is common across all documents, then it's value will be less and ratio will approaches to 0. \n",
    "\n",
    "\n",
    "- Finally:\n",
    "         \n",
    "         TF-IDF = Term Frequency(TF) * Inverse Document Frequency(IDF)"
   ]
  },
  {
   "cell_type": "code",
   "execution_count": 23,
   "id": "bcae2e23",
   "metadata": {
    "id": "bcae2e23",
    "pycharm": {
     "name": "#%%\n"
    }
   },
   "outputs": [],
   "source": [
    "from sklearn.feature_extraction.text import TfidfVectorizer\n",
    "\n",
    "corpus = [\n",
    "    \"Thor eating pizza, Loki is eating pizza, Ironman ate pizza already\",\n",
    "    \"Apple is announcing new iphone Google\",\n",
    "    \"Tesla is announcing new model-3 Google\",\n",
    "    \"Google is announcing new pixel-6 Google\",\n",
    "    \"Microsoft is announcing new surface Google\",\n",
    "    \"Amazon is announcing new eco-dot Tesla\",\n",
    "    \"I am eating biryani and you are eating grapes\"\n",
    "]"
   ]
  },
  {
   "cell_type": "code",
   "execution_count": 25,
   "id": "4fb67c88",
   "metadata": {
    "id": "4fb67c88",
    "pycharm": {
     "name": "#%%\n"
    }
   },
   "outputs": [],
   "source": [
    "# fit corpus and transform them\n",
    "vector = TfidfVectorizer()\n",
    "vector.fit(corpus)\n",
    "transform_output = vector.transform(corpus)"
   ]
  },
  {
   "cell_type": "code",
   "execution_count": 26,
   "id": "2ab34455",
   "metadata": {
    "id": "2ab34455",
    "pycharm": {
     "name": "#%%\n"
    }
   },
   "outputs": [
    {
     "data": {
      "text/plain": "['__class__',\n '__delattr__',\n '__dict__',\n '__dir__',\n '__doc__',\n '__eq__',\n '__format__',\n '__ge__',\n '__getattribute__',\n '__getstate__',\n '__gt__',\n '__hash__',\n '__init__',\n '__init_subclass__',\n '__le__',\n '__lt__',\n '__module__',\n '__ne__',\n '__new__',\n '__reduce__',\n '__reduce_ex__',\n '__repr__',\n '__setattr__',\n '__setstate__',\n '__sizeof__',\n '__str__',\n '__subclasshook__',\n '__weakref__',\n '_char_ngrams',\n '_char_wb_ngrams',\n '_check_feature_names',\n '_check_n_features',\n '_check_params',\n '_check_stop_words_consistency',\n '_check_vocabulary',\n '_count_vocab',\n '_get_param_names',\n '_get_tags',\n '_limit_features',\n '_more_tags',\n '_repr_html_',\n '_repr_html_inner',\n '_repr_mimebundle_',\n '_sort_features',\n '_stop_words_id',\n '_tfidf',\n '_validate_data',\n '_validate_params',\n '_validate_vocabulary',\n '_warn_for_unused_params',\n '_white_spaces',\n '_word_ngrams',\n 'analyzer',\n 'binary',\n 'build_analyzer',\n 'build_preprocessor',\n 'build_tokenizer',\n 'decode',\n 'decode_error',\n 'dtype',\n 'encoding',\n 'fit',\n 'fit_transform',\n 'fixed_vocabulary_',\n 'get_feature_names',\n 'get_feature_names_out',\n 'get_params',\n 'get_stop_words',\n 'idf_',\n 'input',\n 'inverse_transform',\n 'lowercase',\n 'max_df',\n 'max_features',\n 'min_df',\n 'ngram_range',\n 'norm',\n 'preprocessor',\n 'set_params',\n 'smooth_idf',\n 'stop_words',\n 'stop_words_',\n 'strip_accents',\n 'sublinear_tf',\n 'token_pattern',\n 'tokenizer',\n 'transform',\n 'use_idf',\n 'vocabulary',\n 'vocabulary_']"
     },
     "execution_count": 26,
     "metadata": {},
     "output_type": "execute_result"
    }
   ],
   "source": [
    "dir(vector)"
   ]
  },
  {
   "cell_type": "code",
   "execution_count": 27,
   "id": "03b1f3b7",
   "metadata": {
    "id": "03b1f3b7",
    "pycharm": {
     "name": "#%%\n"
    }
   },
   "outputs": [
    {
     "name": "stdout",
     "output_type": "stream",
     "text": [
      "{'thor': 25, 'eating': 10, 'pizza': 22, 'loki': 17, 'is': 16, 'ironman': 15, 'ate': 7, 'already': 0, 'apple': 5, 'announcing': 4, 'new': 20, 'iphone': 14, 'google': 12, 'tesla': 24, 'model': 19, 'pixel': 21, 'microsoft': 18, 'surface': 23, 'amazon': 2, 'eco': 11, 'dot': 9, 'am': 1, 'biryani': 8, 'and': 3, 'you': 26, 'are': 6, 'grapes': 13}\n"
     ]
    }
   ],
   "source": [
    "print(vector.vocabulary_)"
   ]
  },
  {
   "cell_type": "code",
   "execution_count": 28,
   "id": "1f4d4e96",
   "metadata": {
    "id": "1f4d4e96",
    "pycharm": {
     "name": "#%%\n"
    }
   },
   "outputs": [
    {
     "name": "stdout",
     "output_type": "stream",
     "text": [
      "already : 2.386294361119891\n",
      "am : 2.386294361119891\n",
      "amazon : 2.386294361119891\n",
      "and : 2.386294361119891\n",
      "announcing : 1.2876820724517808\n",
      "apple : 2.386294361119891\n",
      "are : 2.386294361119891\n",
      "ate : 2.386294361119891\n",
      "biryani : 2.386294361119891\n",
      "dot : 2.386294361119891\n",
      "eating : 1.9808292530117262\n",
      "eco : 2.386294361119891\n",
      "google : 1.4700036292457357\n",
      "grapes : 2.386294361119891\n",
      "iphone : 2.386294361119891\n",
      "ironman : 2.386294361119891\n",
      "is : 1.1335313926245225\n",
      "loki : 2.386294361119891\n",
      "microsoft : 2.386294361119891\n",
      "model : 2.386294361119891\n",
      "new : 1.2876820724517808\n",
      "pixel : 2.386294361119891\n",
      "pizza : 2.386294361119891\n",
      "surface : 2.386294361119891\n",
      "tesla : 1.9808292530117262\n",
      "thor : 2.386294361119891\n",
      "you : 2.386294361119891\n"
     ]
    }
   ],
   "source": [
    "# print the idf score\n",
    "all_features_name = vector.get_feature_names_out()\n",
    "\n",
    "for word in all_features_name:\n",
    "    index = vector.vocabulary_.get(word) # get the index in vocab\n",
    "    idf_score = vector.idf_[index] # get the score\n",
    "    print(f\"{word} : {idf_score}\")"
   ]
  },
  {
   "cell_type": "code",
   "execution_count": 30,
   "outputs": [
    {
     "name": "stdout",
     "output_type": "stream",
     "text": [
      "[[0.24266547 0.         0.         0.         0.         0.\n",
      "  0.         0.24266547 0.         0.         0.40286636 0.\n",
      "  0.         0.         0.         0.24266547 0.11527033 0.24266547\n",
      "  0.         0.         0.         0.         0.72799642 0.\n",
      "  0.         0.24266547 0.        ]\n",
      " [0.         0.         0.         0.         0.30224568 0.56011275\n",
      "  0.         0.         0.         0.         0.         0.\n",
      "  0.34504032 0.         0.56011275 0.         0.26606332 0.\n",
      "  0.         0.         0.30224568 0.         0.         0.\n",
      "  0.         0.         0.        ]\n",
      " [0.         0.         0.         0.         0.31816313 0.\n",
      "  0.         0.         0.         0.         0.         0.\n",
      "  0.36321151 0.         0.         0.         0.28007526 0.\n",
      "  0.         0.58961051 0.31816313 0.         0.         0.\n",
      "  0.48942736 0.         0.        ]\n",
      " [0.         0.         0.         0.         0.29588843 0.\n",
      "  0.         0.         0.         0.         0.         0.\n",
      "  0.67556592 0.         0.         0.         0.26046711 0.\n",
      "  0.         0.         0.29588843 0.54833169 0.         0.\n",
      "  0.         0.         0.        ]\n",
      " [0.         0.         0.         0.         0.30224568 0.\n",
      "  0.         0.         0.         0.         0.         0.\n",
      "  0.34504032 0.         0.         0.         0.26606332 0.\n",
      "  0.56011275 0.         0.30224568 0.         0.         0.56011275\n",
      "  0.         0.         0.        ]\n",
      " [0.         0.         0.47155888 0.         0.25446061 0.\n",
      "  0.         0.         0.         0.47155888 0.         0.47155888\n",
      "  0.         0.         0.         0.         0.22399868 0.\n",
      "  0.         0.         0.25446061 0.         0.         0.\n",
      "  0.39143437 0.         0.        ]\n",
      " [0.         0.33794257 0.         0.33794257 0.         0.\n",
      "  0.33794257 0.         0.33794257 0.         0.56104271 0.\n",
      "  0.         0.33794257 0.         0.         0.         0.\n",
      "  0.         0.         0.         0.         0.         0.\n",
      "  0.         0.         0.33794257]]\n"
     ]
    }
   ],
   "source": [
    "print(transform_output.toarray())"
   ],
   "metadata": {
    "collapsed": false,
    "pycharm": {
     "name": "#%%\n"
    }
   }
  },
  {
   "cell_type": "markdown",
   "id": "086cea63",
   "metadata": {
    "id": "086cea63",
    "pycharm": {
     "name": "#%% md\n"
    }
   },
   "source": [
    "### Problem Statement: Given a description about a product sold on e-commerce website, classify it in one of the 4 categories\n",
    "\n",
    "Dataset Credits: https://www.kaggle.com/datasets/saurabhshahane/ecommerce-text-classification\n",
    "\n",
    "\n",
    "- This data consists of two columns.\n",
    "\n",
    "| Text | Label | \n",
    "| --- | --- |\n",
    "| Indira Designer Women's Art Mysore Silk Saree With Blouse Piece (Star-Red) This Saree Is Of Art Mysore Silk & Comes With Blouse Piece. | Clothing & Accessories | \n",
    "|IO Crest SY-PCI40010 PCI RAID Host Controller Card Brings new life to any old desktop PC. Connects up to 4 SATA II high speed SATA hard disk drives. Supports Windows 8 and Server 2012|Electronics|\n",
    "|Operating Systems in Depth About the Author Professor Doeppner is an associate professor of computer science at Brown University. His research interests include mobile computing in education, mobile and ubiquitous computing, operating systems and distribution systems, parallel computing, and security.|Books|\n",
    "\n",
    "- ***Text***: Description of an item sold on e-commerce website\n",
    "- ***Label***: Category of that item. Total 4 categories: \"Electronics\", \"Household\", \"Books\" and \"Clothing & Accessories\", which almost cover 80% of any E-commerce website.\n"
   ]
  },
  {
   "cell_type": "code",
   "execution_count": 31,
   "id": "6bb3d5e3",
   "metadata": {
    "id": "6bb3d5e3",
    "pycharm": {
     "name": "#%%\n"
    }
   },
   "outputs": [
    {
     "name": "stdout",
     "output_type": "stream",
     "text": [
      "(24000, 2)\n"
     ]
    },
    {
     "data": {
      "text/plain": "                                                Text                   label\n0  Urban Ladder Eisner Low Back Study-Office Comp...               Household\n1  Contrast living Wooden Decorative Box,Painted ...               Household\n2  IO Crest SY-PCI40010 PCI RAID Host Controller ...             Electronics\n3  ISAKAA Baby Socks from Just Born to 8 Years- P...  Clothing & Accessories\n4  Indira Designer Women's Art Mysore Silk Saree ...  Clothing & Accessories",
      "text/html": "<div>\n<style scoped>\n    .dataframe tbody tr th:only-of-type {\n        vertical-align: middle;\n    }\n\n    .dataframe tbody tr th {\n        vertical-align: top;\n    }\n\n    .dataframe thead th {\n        text-align: right;\n    }\n</style>\n<table border=\"1\" class=\"dataframe\">\n  <thead>\n    <tr style=\"text-align: right;\">\n      <th></th>\n      <th>Text</th>\n      <th>label</th>\n    </tr>\n  </thead>\n  <tbody>\n    <tr>\n      <th>0</th>\n      <td>Urban Ladder Eisner Low Back Study-Office Comp...</td>\n      <td>Household</td>\n    </tr>\n    <tr>\n      <th>1</th>\n      <td>Contrast living Wooden Decorative Box,Painted ...</td>\n      <td>Household</td>\n    </tr>\n    <tr>\n      <th>2</th>\n      <td>IO Crest SY-PCI40010 PCI RAID Host Controller ...</td>\n      <td>Electronics</td>\n    </tr>\n    <tr>\n      <th>3</th>\n      <td>ISAKAA Baby Socks from Just Born to 8 Years- P...</td>\n      <td>Clothing &amp; Accessories</td>\n    </tr>\n    <tr>\n      <th>4</th>\n      <td>Indira Designer Women's Art Mysore Silk Saree ...</td>\n      <td>Clothing &amp; Accessories</td>\n    </tr>\n  </tbody>\n</table>\n</div>"
     },
     "execution_count": 31,
     "metadata": {},
     "output_type": "execute_result"
    }
   ],
   "source": [
    "import pandas as pd\n",
    "\n",
    "df = pd.read_csv(\"../../data/Ecommerce_data.csv\")\n",
    "print(df.shape)\n",
    "df.head(5)"
   ]
  },
  {
   "cell_type": "code",
   "execution_count": 32,
   "id": "c70c009f",
   "metadata": {
    "scrolled": true,
    "id": "c70c009f",
    "pycharm": {
     "name": "#%%\n"
    }
   },
   "outputs": [
    {
     "data": {
      "text/plain": "Household                 6000\nElectronics               6000\nClothing & Accessories    6000\nBooks                     6000\nName: label, dtype: int64"
     },
     "execution_count": 32,
     "metadata": {},
     "output_type": "execute_result"
    }
   ],
   "source": [
    "df['label'].value_counts() # label distribution"
   ]
  },
  {
   "cell_type": "markdown",
   "id": "a12688fc",
   "metadata": {
    "id": "a12688fc",
    "pycharm": {
     "name": "#%% md\n"
    }
   },
   "source": [
    "- From the above, we can see that almost all the labels(classes) occured equal number of times and perfectly balanced. There is no problem of class imbalance and hence no need to apply any balancing techniques like undersampling, oversampling etc."
   ]
  },
  {
   "cell_type": "code",
   "execution_count": 35,
   "id": "4693ad30",
   "metadata": {
    "id": "4693ad30",
    "pycharm": {
     "name": "#%%\n"
    }
   },
   "outputs": [
    {
     "data": {
      "text/plain": "                                                 Text                   label  \\\n0   Urban Ladder Eisner Low Back Study-Office Comp...               Household   \n1   Contrast living Wooden Decorative Box,Painted ...               Household   \n2   IO Crest SY-PCI40010 PCI RAID Host Controller ...             Electronics   \n3   ISAKAA Baby Socks from Just Born to 8 Years- P...  Clothing & Accessories   \n4   Indira Designer Women's Art Mysore Silk Saree ...  Clothing & Accessories   \n5   Selfie: How We Became So Self-Obsessed and Wha...                   Books   \n6   Quantum QHM8810 Keyboard with Mouse (Black) Ul...             Electronics   \n7   Y&S Uv Protected Non Polarized Wayfarer Boy's ...  Clothing & Accessories   \n8   HP external USB DVD Drive DVDRW DVD-ROM A2U56A...             Electronics   \n9   Fujifilm Instax Mini Monochrome Film (10 Sheet...                   Books   \n10  Operating Systems in Depth About the Author Pr...                   Books   \n11   Dennis Lingo Men's Cotton Checkered Casual Shirt  Clothing & Accessories   \n12  Forzza Zoey Laptop Table Mahogany, Black Color...               Household   \n13  Belazo Lady Butterfly Knot Sexy Underwear Wome...  Clothing & Accessories   \n14  Zolario Boy's Cotton Waistcoat, Shirt, Pant an...  Clothing & Accessories   \n15  Kaspersky Internet Security Latest Version - 1...             Electronics   \n16  BODYCARE Mickey Printed Brief for Boys Pack of...  Clothing & Accessories   \n17  Leriya Fashion Women's Diamond Crepe Western S...  Clothing & Accessories   \n18  Emotion and Relationships Review Relationships...                   Books   \n19  Qube By Fort Collins Girls' Animal Print Regul...  Clothing & Accessories   \n20  Amazon Brand - Solimo 100% Cotton 10 Piece Tow...               Household   \n21  Brother DCP-L2541DW Multi-Function Wireless Mo...             Electronics   \n22  AmazonBasics Male to Male Stereo Audio Cable -...             Electronics   \n23  CABLESETC Pure Oxygen Free Copper Coaxial SPDI...             Electronics   \n24  Ikall N5 Tablet (7 inch, 16GB, WiFi + 4G LTE +...             Electronics   \n\n    label_num  \n0           0  \n1           0  \n2           2  \n3           3  \n4           3  \n5           1  \n6           2  \n7           3  \n8           2  \n9           1  \n10          1  \n11          3  \n12          0  \n13          3  \n14          3  \n15          2  \n16          3  \n17          3  \n18          1  \n19          3  \n20          0  \n21          2  \n22          2  \n23          2  \n24          2  ",
      "text/html": "<div>\n<style scoped>\n    .dataframe tbody tr th:only-of-type {\n        vertical-align: middle;\n    }\n\n    .dataframe tbody tr th {\n        vertical-align: top;\n    }\n\n    .dataframe thead th {\n        text-align: right;\n    }\n</style>\n<table border=\"1\" class=\"dataframe\">\n  <thead>\n    <tr style=\"text-align: right;\">\n      <th></th>\n      <th>Text</th>\n      <th>label</th>\n      <th>label_num</th>\n    </tr>\n  </thead>\n  <tbody>\n    <tr>\n      <th>0</th>\n      <td>Urban Ladder Eisner Low Back Study-Office Comp...</td>\n      <td>Household</td>\n      <td>0</td>\n    </tr>\n    <tr>\n      <th>1</th>\n      <td>Contrast living Wooden Decorative Box,Painted ...</td>\n      <td>Household</td>\n      <td>0</td>\n    </tr>\n    <tr>\n      <th>2</th>\n      <td>IO Crest SY-PCI40010 PCI RAID Host Controller ...</td>\n      <td>Electronics</td>\n      <td>2</td>\n    </tr>\n    <tr>\n      <th>3</th>\n      <td>ISAKAA Baby Socks from Just Born to 8 Years- P...</td>\n      <td>Clothing &amp; Accessories</td>\n      <td>3</td>\n    </tr>\n    <tr>\n      <th>4</th>\n      <td>Indira Designer Women's Art Mysore Silk Saree ...</td>\n      <td>Clothing &amp; Accessories</td>\n      <td>3</td>\n    </tr>\n    <tr>\n      <th>5</th>\n      <td>Selfie: How We Became So Self-Obsessed and Wha...</td>\n      <td>Books</td>\n      <td>1</td>\n    </tr>\n    <tr>\n      <th>6</th>\n      <td>Quantum QHM8810 Keyboard with Mouse (Black) Ul...</td>\n      <td>Electronics</td>\n      <td>2</td>\n    </tr>\n    <tr>\n      <th>7</th>\n      <td>Y&amp;S Uv Protected Non Polarized Wayfarer Boy's ...</td>\n      <td>Clothing &amp; Accessories</td>\n      <td>3</td>\n    </tr>\n    <tr>\n      <th>8</th>\n      <td>HP external USB DVD Drive DVDRW DVD-ROM A2U56A...</td>\n      <td>Electronics</td>\n      <td>2</td>\n    </tr>\n    <tr>\n      <th>9</th>\n      <td>Fujifilm Instax Mini Monochrome Film (10 Sheet...</td>\n      <td>Books</td>\n      <td>1</td>\n    </tr>\n    <tr>\n      <th>10</th>\n      <td>Operating Systems in Depth About the Author Pr...</td>\n      <td>Books</td>\n      <td>1</td>\n    </tr>\n    <tr>\n      <th>11</th>\n      <td>Dennis Lingo Men's Cotton Checkered Casual Shirt</td>\n      <td>Clothing &amp; Accessories</td>\n      <td>3</td>\n    </tr>\n    <tr>\n      <th>12</th>\n      <td>Forzza Zoey Laptop Table Mahogany, Black Color...</td>\n      <td>Household</td>\n      <td>0</td>\n    </tr>\n    <tr>\n      <th>13</th>\n      <td>Belazo Lady Butterfly Knot Sexy Underwear Wome...</td>\n      <td>Clothing &amp; Accessories</td>\n      <td>3</td>\n    </tr>\n    <tr>\n      <th>14</th>\n      <td>Zolario Boy's Cotton Waistcoat, Shirt, Pant an...</td>\n      <td>Clothing &amp; Accessories</td>\n      <td>3</td>\n    </tr>\n    <tr>\n      <th>15</th>\n      <td>Kaspersky Internet Security Latest Version - 1...</td>\n      <td>Electronics</td>\n      <td>2</td>\n    </tr>\n    <tr>\n      <th>16</th>\n      <td>BODYCARE Mickey Printed Brief for Boys Pack of...</td>\n      <td>Clothing &amp; Accessories</td>\n      <td>3</td>\n    </tr>\n    <tr>\n      <th>17</th>\n      <td>Leriya Fashion Women's Diamond Crepe Western S...</td>\n      <td>Clothing &amp; Accessories</td>\n      <td>3</td>\n    </tr>\n    <tr>\n      <th>18</th>\n      <td>Emotion and Relationships Review Relationships...</td>\n      <td>Books</td>\n      <td>1</td>\n    </tr>\n    <tr>\n      <th>19</th>\n      <td>Qube By Fort Collins Girls' Animal Print Regul...</td>\n      <td>Clothing &amp; Accessories</td>\n      <td>3</td>\n    </tr>\n    <tr>\n      <th>20</th>\n      <td>Amazon Brand - Solimo 100% Cotton 10 Piece Tow...</td>\n      <td>Household</td>\n      <td>0</td>\n    </tr>\n    <tr>\n      <th>21</th>\n      <td>Brother DCP-L2541DW Multi-Function Wireless Mo...</td>\n      <td>Electronics</td>\n      <td>2</td>\n    </tr>\n    <tr>\n      <th>22</th>\n      <td>AmazonBasics Male to Male Stereo Audio Cable -...</td>\n      <td>Electronics</td>\n      <td>2</td>\n    </tr>\n    <tr>\n      <th>23</th>\n      <td>CABLESETC Pure Oxygen Free Copper Coaxial SPDI...</td>\n      <td>Electronics</td>\n      <td>2</td>\n    </tr>\n    <tr>\n      <th>24</th>\n      <td>Ikall N5 Tablet (7 inch, 16GB, WiFi + 4G LTE +...</td>\n      <td>Electronics</td>\n      <td>2</td>\n    </tr>\n  </tbody>\n</table>\n</div>"
     },
     "execution_count": 35,
     "metadata": {},
     "output_type": "execute_result"
    }
   ],
   "source": [
    "df['label_num'] = df['label'].map({\n",
    "    'Household' : 0,\n",
    "    'Books' : 1,\n",
    "    'Electronics' : 2,\n",
    "    'Clothing & Accessories' : 3\n",
    "})\n",
    "\n",
    "df.head(25)"
   ]
  },
  {
   "cell_type": "markdown",
   "id": "ec37fbdf",
   "metadata": {
    "id": "ec37fbdf",
    "pycharm": {
     "name": "#%% md\n"
    }
   },
   "source": [
    "<h3>Train test split</h3>\n",
    "\n",
    "- Build a model with original text (no pre processing)"
   ]
  },
  {
   "cell_type": "code",
   "execution_count": 42,
   "id": "1e9bb190",
   "metadata": {
    "id": "1e9bb190",
    "pycharm": {
     "name": "#%%\n"
    }
   },
   "outputs": [],
   "source": [
    "from sklearn.model_selection import train_test_split\n",
    "\n",
    "X_train, X_test, y_train, y_test = train_test_split(\n",
    "    df.Text,\n",
    "    df.label_num,\n",
    "    test_size=0.27, # 27% sample\n",
    "    random_state=2022,\n",
    "    stratify=df.label_num\n",
    ")"
   ]
  },
  {
   "cell_type": "code",
   "execution_count": 43,
   "id": "c3dcb35d",
   "metadata": {
    "id": "c3dcb35d",
    "pycharm": {
     "name": "#%%\n"
    }
   },
   "outputs": [
    {
     "name": "stdout",
     "output_type": "stream",
     "text": [
      "X_train:  (17520,)\n",
      "X_test:  (6480,)\n"
     ]
    }
   ],
   "source": [
    "print(\"X_train: \", X_train.shape)\n",
    "print(\"X_test: \", X_test.shape)"
   ]
  },
  {
   "cell_type": "code",
   "execution_count": 44,
   "id": "cdaf7f80",
   "metadata": {
    "id": "cdaf7f80",
    "pycharm": {
     "name": "#%%\n"
    }
   },
   "outputs": [
    {
     "data": {
      "text/plain": "22572                                            Ramayana \n8012     COOFIT 12 Pairs Kid's Socks Warm Anti-slip Cre...\n14526    ARUBA Women's Lace Bra and Panty ARUBA equisit...\n15334    Varshine Happy Home Laurel Fan Heater || Heat ...\n15802    KROSSSTITCH Solid Denim Men Jacket Featuring b...\nName: Text, dtype: object"
     },
     "execution_count": 44,
     "metadata": {},
     "output_type": "execute_result"
    }
   ],
   "source": [
    "X_train.head()"
   ]
  },
  {
   "cell_type": "code",
   "execution_count": 45,
   "id": "a196a664",
   "metadata": {
    "id": "a196a664",
    "pycharm": {
     "name": "#%%\n"
    }
   },
   "outputs": [
    {
     "data": {
      "text/plain": "1    4380\n3    4380\n0    4380\n2    4380\nName: label_num, dtype: int64"
     },
     "execution_count": 45,
     "metadata": {},
     "output_type": "execute_result"
    }
   ],
   "source": [
    "y_train.value_counts()"
   ]
  },
  {
   "cell_type": "code",
   "execution_count": 46,
   "id": "4a3824f3",
   "metadata": {
    "id": "4a3824f3",
    "pycharm": {
     "name": "#%%\n"
    }
   },
   "outputs": [
    {
     "data": {
      "text/plain": "0    1620\n1    1620\n2    1620\n3    1620\nName: label_num, dtype: int64"
     },
     "execution_count": 46,
     "metadata": {},
     "output_type": "execute_result"
    }
   ],
   "source": [
    "y_test.value_counts()"
   ]
  },
  {
   "cell_type": "markdown",
   "id": "ee694214",
   "metadata": {
    "id": "ee694214",
    "pycharm": {
     "name": "#%% md\n"
    }
   },
   "source": [
    "**Attempt 1** :\n",
    "\n",
    "1. using sklearn pipeline module create a classification pipeline to classify the Ecommerce Data.\n",
    "\n",
    "**Note:**\n",
    "- use TF-IDF for pre-processing the text.\n",
    "\n",
    "- use **KNN** as the classifier \n",
    "- print the classification report."
   ]
  },
  {
   "cell_type": "code",
   "execution_count": 59,
   "id": "857853b8",
   "metadata": {
    "id": "857853b8",
    "pycharm": {
     "name": "#%%\n"
    }
   },
   "outputs": [
    {
     "name": "stdout",
     "output_type": "stream",
     "text": [
      "              precision    recall  f1-score   support\n",
      "\n",
      "           0       0.95      0.96      0.95      1620\n",
      "           1       0.97      0.96      0.96      1620\n",
      "           2       0.97      0.97      0.97      1620\n",
      "           3       0.97      0.98      0.98      1620\n",
      "\n",
      "    accuracy                           0.97      6480\n",
      "   macro avg       0.97      0.97      0.97      6480\n",
      "weighted avg       0.97      0.97      0.97      6480\n",
      "\n"
     ]
    }
   ],
   "source": [
    "from sklearn.neighbors import KNeighborsClassifier\n",
    "from sklearn.pipeline import Pipeline\n",
    "from sklearn.metrics import classification_report\n",
    "from sklearn.naive_bayes import BernoulliNB\n",
    "\n",
    "clf = Pipeline([\n",
    "    ('tf-idf', TfidfVectorizer()),\n",
    "    ('KNN', KNeighborsClassifier())\n",
    "])\n",
    "clf.fit(X_train, y_train)\n",
    "y_pred = clf.predict(X_test)\n",
    "print(classification_report(y_test, y_pred))"
   ]
  },
  {
   "cell_type": "code",
   "execution_count": 54,
   "id": "5b3a9b57",
   "metadata": {
    "scrolled": true,
    "id": "5b3a9b57",
    "pycharm": {
     "name": "#%%\n"
    }
   },
   "outputs": [
    {
     "data": {
      "text/plain": "12337    Creative Farmer Himalayan Cypress Elegant and ...\n11246    Nilkamal Leo Computer Table (Beech) Nilkamal L...\n10691    Harappa - Curse of the Blood River Review “Har...\n7438     Plextone Wired Gaming Earphone with Detachable...\n2413     Wonderland Gardening Mat / Mats With Artificia...\nName: Text, dtype: object"
     },
     "execution_count": 54,
     "metadata": {},
     "output_type": "execute_result"
    }
   ],
   "source": [
    "X_test[:5]"
   ]
  },
  {
   "cell_type": "code",
   "execution_count": 55,
   "id": "710d72a7",
   "metadata": {
    "id": "710d72a7",
    "pycharm": {
     "name": "#%%\n"
    }
   },
   "outputs": [
    {
     "data": {
      "text/plain": "12337    0\n11246    0\n10691    1\n7438     2\n2413     0\nName: label_num, dtype: int64"
     },
     "execution_count": 55,
     "metadata": {},
     "output_type": "execute_result"
    }
   ],
   "source": [
    "y_test[:5]"
   ]
  },
  {
   "cell_type": "code",
   "execution_count": 56,
   "id": "82b421eb",
   "metadata": {
    "id": "82b421eb",
    "pycharm": {
     "name": "#%%\n"
    }
   },
   "outputs": [
    {
     "data": {
      "text/plain": "array([0, 0, 1, 2, 0])"
     },
     "execution_count": 56,
     "metadata": {},
     "output_type": "execute_result"
    }
   ],
   "source": [
    "y_pred[:5]"
   ]
  },
  {
   "cell_type": "markdown",
   "id": "7b4730a2",
   "metadata": {
    "id": "7b4730a2",
    "pycharm": {
     "name": "#%% md\n"
    }
   },
   "source": [
    "**Attempt 2** :\n",
    "\n",
    "1. using sklearn pipeline module create a classification pipeline to classify the Ecommerce Data.\n",
    "\n",
    "**Note:**\n",
    "- use TF-IDF for pre-processing the text.\n",
    "\n",
    "- use **MultinomialNB** as the classifier.\n",
    "- print the classification report.\n"
   ]
  },
  {
   "cell_type": "code",
   "execution_count": 57,
   "id": "829336a7",
   "metadata": {
    "id": "829336a7",
    "pycharm": {
     "name": "#%%\n"
    }
   },
   "outputs": [
    {
     "name": "stdout",
     "output_type": "stream",
     "text": [
      "              precision    recall  f1-score   support\n",
      "\n",
      "           0       0.93      0.97      0.95      1620\n",
      "           1       0.98      0.93      0.96      1620\n",
      "           2       0.97      0.97      0.97      1620\n",
      "           3       0.98      0.99      0.98      1620\n",
      "\n",
      "    accuracy                           0.96      6480\n",
      "   macro avg       0.96      0.96      0.96      6480\n",
      "weighted avg       0.96      0.96      0.96      6480\n",
      "\n"
     ]
    }
   ],
   "source": [
    "from sklearn.naive_bayes import MultinomialNB\n",
    "\n",
    "clf = Pipeline([\n",
    "    ('tf-idf', TfidfVectorizer()),\n",
    "    ('multi', MultinomialNB())\n",
    "])\n",
    "clf.fit(X_train, y_train)\n",
    "y_pred = clf.predict(X_test)\n",
    "print(classification_report(y_test, y_pred))"
   ]
  },
  {
   "cell_type": "markdown",
   "id": "2204ab6f",
   "metadata": {
    "id": "2204ab6f",
    "pycharm": {
     "name": "#%% md\n"
    }
   },
   "source": [
    "**Attempt 3** :\n",
    "\n",
    "1. using sklearn pipeline module create a classification pipeline to classify the Ecommerce Data.\n",
    "\n",
    "**Note:**\n",
    "- use TF-IDF for pre-processing the text.\n",
    "\n",
    "- use **Random Forest** as the classifier.\n",
    "- print the classification report.\n"
   ]
  }
 ],
 "metadata": {
  "kernelspec": {
   "display_name": "Python 3",
   "language": "python",
   "name": "python3"
  },
  "language_info": {
   "codemirror_mode": {
    "name": "ipython",
    "version": 3
   },
   "file_extension": ".py",
   "mimetype": "text/x-python",
   "name": "python",
   "nbconvert_exporter": "python",
   "pygments_lexer": "ipython3",
   "version": "3.8.10"
  },
  "colab": {
   "provenance": []
  }
 },
 "nbformat": 4,
 "nbformat_minor": 5
}