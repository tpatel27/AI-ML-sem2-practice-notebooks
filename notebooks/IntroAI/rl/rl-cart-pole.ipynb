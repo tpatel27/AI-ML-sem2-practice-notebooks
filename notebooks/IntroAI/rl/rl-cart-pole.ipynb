{
 "cells": [
  {
   "cell_type": "markdown",
   "source": [
    "#### Installing necessary libs"
   ],
   "metadata": {
    "collapsed": false,
    "pycharm": {
     "name": "#%% md\n"
    }
   }
  },
  {
   "cell_type": "code",
   "execution_count": 7,
   "outputs": [
    {
     "name": "stdout",
     "output_type": "stream",
     "text": [
      "Requirement already satisfied: tensorflow==2.3.0 in /Users/tejaspatel/IdeaProjects/AI-class-practice/venv/lib/python3.8/site-packages (2.3.0)\r\n",
      "Requirement already satisfied: grpcio>=1.8.6 in /Users/tejaspatel/IdeaProjects/AI-class-practice/venv/lib/python3.8/site-packages (from tensorflow==2.3.0) (1.49.1)\r\n",
      "Requirement already satisfied: astunparse==1.6.3 in /Users/tejaspatel/IdeaProjects/AI-class-practice/venv/lib/python3.8/site-packages (from tensorflow==2.3.0) (1.6.3)\r\n",
      "Requirement already satisfied: protobuf>=3.9.2 in /Users/tejaspatel/IdeaProjects/AI-class-practice/venv/lib/python3.8/site-packages (from tensorflow==2.3.0) (3.19.5)\r\n",
      "Requirement already satisfied: wheel>=0.26 in /Users/tejaspatel/IdeaProjects/AI-class-practice/venv/lib/python3.8/site-packages (from tensorflow==2.3.0) (0.37.1)\r\n",
      "Requirement already satisfied: termcolor>=1.1.0 in /Users/tejaspatel/IdeaProjects/AI-class-practice/venv/lib/python3.8/site-packages (from tensorflow==2.3.0) (2.0.1)\r\n",
      "Requirement already satisfied: gast==0.3.3 in /Users/tejaspatel/IdeaProjects/AI-class-practice/venv/lib/python3.8/site-packages (from tensorflow==2.3.0) (0.3.3)\r\n",
      "Requirement already satisfied: wrapt>=1.11.1 in /Users/tejaspatel/IdeaProjects/AI-class-practice/venv/lib/python3.8/site-packages (from tensorflow==2.3.0) (1.14.1)\r\n",
      "Requirement already satisfied: numpy<1.19.0,>=1.16.0 in /Users/tejaspatel/IdeaProjects/AI-class-practice/venv/lib/python3.8/site-packages (from tensorflow==2.3.0) (1.18.5)\r\n",
      "Requirement already satisfied: opt-einsum>=2.3.2 in /Users/tejaspatel/IdeaProjects/AI-class-practice/venv/lib/python3.8/site-packages (from tensorflow==2.3.0) (3.3.0)\r\n",
      "Requirement already satisfied: six>=1.12.0 in /Users/tejaspatel/IdeaProjects/AI-class-practice/venv/lib/python3.8/site-packages (from tensorflow==2.3.0) (1.16.0)\r\n",
      "Requirement already satisfied: scipy==1.4.1 in /Users/tejaspatel/IdeaProjects/AI-class-practice/venv/lib/python3.8/site-packages (from tensorflow==2.3.0) (1.4.1)\r\n",
      "Requirement already satisfied: h5py<2.11.0,>=2.10.0 in /Users/tejaspatel/IdeaProjects/AI-class-practice/venv/lib/python3.8/site-packages (from tensorflow==2.3.0) (2.10.0)\r\n",
      "Requirement already satisfied: tensorflow-estimator<2.4.0,>=2.3.0 in /Users/tejaspatel/IdeaProjects/AI-class-practice/venv/lib/python3.8/site-packages (from tensorflow==2.3.0) (2.3.0)\r\n",
      "Requirement already satisfied: google-pasta>=0.1.8 in /Users/tejaspatel/IdeaProjects/AI-class-practice/venv/lib/python3.8/site-packages (from tensorflow==2.3.0) (0.2.0)\r\n",
      "Requirement already satisfied: absl-py>=0.7.0 in /Users/tejaspatel/IdeaProjects/AI-class-practice/venv/lib/python3.8/site-packages (from tensorflow==2.3.0) (1.2.0)\r\n",
      "Requirement already satisfied: tensorboard<3,>=2.3.0 in /Users/tejaspatel/IdeaProjects/AI-class-practice/venv/lib/python3.8/site-packages (from tensorflow==2.3.0) (2.10.1)\r\n",
      "Requirement already satisfied: keras-preprocessing<1.2,>=1.1.1 in /Users/tejaspatel/IdeaProjects/AI-class-practice/venv/lib/python3.8/site-packages (from tensorflow==2.3.0) (1.1.2)\r\n",
      "Requirement already satisfied: tensorboard-data-server<0.7.0,>=0.6.0 in /Users/tejaspatel/IdeaProjects/AI-class-practice/venv/lib/python3.8/site-packages (from tensorboard<3,>=2.3.0->tensorflow==2.3.0) (0.6.1)\r\n",
      "Requirement already satisfied: google-auth<3,>=1.6.3 in /Users/tejaspatel/IdeaProjects/AI-class-practice/venv/lib/python3.8/site-packages (from tensorboard<3,>=2.3.0->tensorflow==2.3.0) (2.12.0)\r\n",
      "Requirement already satisfied: setuptools>=41.0.0 in /Users/tejaspatel/IdeaProjects/AI-class-practice/venv/lib/python3.8/site-packages (from tensorboard<3,>=2.3.0->tensorflow==2.3.0) (65.0.2)\r\n",
      "Requirement already satisfied: google-auth-oauthlib<0.5,>=0.4.1 in /Users/tejaspatel/IdeaProjects/AI-class-practice/venv/lib/python3.8/site-packages (from tensorboard<3,>=2.3.0->tensorflow==2.3.0) (0.4.6)\r\n",
      "Requirement already satisfied: tensorboard-plugin-wit>=1.6.0 in /Users/tejaspatel/IdeaProjects/AI-class-practice/venv/lib/python3.8/site-packages (from tensorboard<3,>=2.3.0->tensorflow==2.3.0) (1.8.1)\r\n",
      "Requirement already satisfied: markdown>=2.6.8 in /Users/tejaspatel/IdeaProjects/AI-class-practice/venv/lib/python3.8/site-packages (from tensorboard<3,>=2.3.0->tensorflow==2.3.0) (3.4.1)\r\n",
      "Requirement already satisfied: requests<3,>=2.21.0 in /Users/tejaspatel/IdeaProjects/AI-class-practice/venv/lib/python3.8/site-packages (from tensorboard<3,>=2.3.0->tensorflow==2.3.0) (2.28.1)\r\n",
      "Requirement already satisfied: werkzeug>=1.0.1 in /Users/tejaspatel/IdeaProjects/AI-class-practice/venv/lib/python3.8/site-packages (from tensorboard<3,>=2.3.0->tensorflow==2.3.0) (2.2.2)\r\n",
      "Requirement already satisfied: cachetools<6.0,>=2.0.0 in /Users/tejaspatel/IdeaProjects/AI-class-practice/venv/lib/python3.8/site-packages (from google-auth<3,>=1.6.3->tensorboard<3,>=2.3.0->tensorflow==2.3.0) (5.2.0)\r\n",
      "Requirement already satisfied: pyasn1-modules>=0.2.1 in /Users/tejaspatel/IdeaProjects/AI-class-practice/venv/lib/python3.8/site-packages (from google-auth<3,>=1.6.3->tensorboard<3,>=2.3.0->tensorflow==2.3.0) (0.2.8)\r\n",
      "Requirement already satisfied: rsa<5,>=3.1.4 in /Users/tejaspatel/IdeaProjects/AI-class-practice/venv/lib/python3.8/site-packages (from google-auth<3,>=1.6.3->tensorboard<3,>=2.3.0->tensorflow==2.3.0) (4.9)\r\n",
      "Requirement already satisfied: requests-oauthlib>=0.7.0 in /Users/tejaspatel/IdeaProjects/AI-class-practice/venv/lib/python3.8/site-packages (from google-auth-oauthlib<0.5,>=0.4.1->tensorboard<3,>=2.3.0->tensorflow==2.3.0) (1.3.1)\r\n",
      "Requirement already satisfied: importlib-metadata>=4.4 in /Users/tejaspatel/IdeaProjects/AI-class-practice/venv/lib/python3.8/site-packages (from markdown>=2.6.8->tensorboard<3,>=2.3.0->tensorflow==2.3.0) (4.13.0)\r\n",
      "Requirement already satisfied: idna<4,>=2.5 in /Users/tejaspatel/IdeaProjects/AI-class-practice/venv/lib/python3.8/site-packages (from requests<3,>=2.21.0->tensorboard<3,>=2.3.0->tensorflow==2.3.0) (3.4)\r\n",
      "Requirement already satisfied: charset-normalizer<3,>=2 in /Users/tejaspatel/IdeaProjects/AI-class-practice/venv/lib/python3.8/site-packages (from requests<3,>=2.21.0->tensorboard<3,>=2.3.0->tensorflow==2.3.0) (2.1.1)\r\n",
      "Requirement already satisfied: urllib3<1.27,>=1.21.1 in /Users/tejaspatel/IdeaProjects/AI-class-practice/venv/lib/python3.8/site-packages (from requests<3,>=2.21.0->tensorboard<3,>=2.3.0->tensorflow==2.3.0) (1.26.12)\r\n",
      "Requirement already satisfied: certifi>=2017.4.17 in /Users/tejaspatel/IdeaProjects/AI-class-practice/venv/lib/python3.8/site-packages (from requests<3,>=2.21.0->tensorboard<3,>=2.3.0->tensorflow==2.3.0) (2022.9.24)\r\n",
      "Requirement already satisfied: MarkupSafe>=2.1.1 in /Users/tejaspatel/IdeaProjects/AI-class-practice/venv/lib/python3.8/site-packages (from werkzeug>=1.0.1->tensorboard<3,>=2.3.0->tensorflow==2.3.0) (2.1.1)\r\n",
      "Requirement already satisfied: zipp>=0.5 in /Users/tejaspatel/IdeaProjects/AI-class-practice/venv/lib/python3.8/site-packages (from importlib-metadata>=4.4->markdown>=2.6.8->tensorboard<3,>=2.3.0->tensorflow==2.3.0) (3.8.1)\r\n",
      "Requirement already satisfied: pyasn1<0.5.0,>=0.4.6 in /Users/tejaspatel/IdeaProjects/AI-class-practice/venv/lib/python3.8/site-packages (from pyasn1-modules>=0.2.1->google-auth<3,>=1.6.3->tensorboard<3,>=2.3.0->tensorflow==2.3.0) (0.4.8)\r\n",
      "Requirement already satisfied: oauthlib>=3.0.0 in /Users/tejaspatel/IdeaProjects/AI-class-practice/venv/lib/python3.8/site-packages (from requests-oauthlib>=0.7.0->google-auth-oauthlib<0.5,>=0.4.1->tensorboard<3,>=2.3.0->tensorflow==2.3.0) (3.2.1)\r\n",
      "Requirement already satisfied: gym in /Users/tejaspatel/IdeaProjects/AI-class-practice/venv/lib/python3.8/site-packages (0.21.0)\r\n",
      "Requirement already satisfied: numpy>=1.18.0 in /Users/tejaspatel/IdeaProjects/AI-class-practice/venv/lib/python3.8/site-packages (from gym) (1.18.5)\r\n",
      "Requirement already satisfied: cloudpickle>=1.2.0 in /Users/tejaspatel/IdeaProjects/AI-class-practice/venv/lib/python3.8/site-packages (from gym) (2.2.0)\r\n",
      "Requirement already satisfied: keras in /Users/tejaspatel/IdeaProjects/AI-class-practice/venv/lib/python3.8/site-packages (2.10.0)\r\n",
      "Requirement already satisfied: keras-rl2 in /Users/tejaspatel/IdeaProjects/AI-class-practice/venv/lib/python3.8/site-packages (1.0.5)\r\n",
      "Requirement already satisfied: tensorflow in /Users/tejaspatel/IdeaProjects/AI-class-practice/venv/lib/python3.8/site-packages (from keras-rl2) (2.3.0)\r\n",
      "Requirement already satisfied: astunparse==1.6.3 in /Users/tejaspatel/IdeaProjects/AI-class-practice/venv/lib/python3.8/site-packages (from tensorflow->keras-rl2) (1.6.3)\r\n",
      "Requirement already satisfied: gast==0.3.3 in /Users/tejaspatel/IdeaProjects/AI-class-practice/venv/lib/python3.8/site-packages (from tensorflow->keras-rl2) (0.3.3)\r\n",
      "Requirement already satisfied: scipy==1.4.1 in /Users/tejaspatel/IdeaProjects/AI-class-practice/venv/lib/python3.8/site-packages (from tensorflow->keras-rl2) (1.4.1)\r\n",
      "Requirement already satisfied: grpcio>=1.8.6 in /Users/tejaspatel/IdeaProjects/AI-class-practice/venv/lib/python3.8/site-packages (from tensorflow->keras-rl2) (1.49.1)\r\n",
      "Requirement already satisfied: google-pasta>=0.1.8 in /Users/tejaspatel/IdeaProjects/AI-class-practice/venv/lib/python3.8/site-packages (from tensorflow->keras-rl2) (0.2.0)\r\n",
      "Requirement already satisfied: tensorflow-estimator<2.4.0,>=2.3.0 in /Users/tejaspatel/IdeaProjects/AI-class-practice/venv/lib/python3.8/site-packages (from tensorflow->keras-rl2) (2.3.0)\r\n",
      "Requirement already satisfied: termcolor>=1.1.0 in /Users/tejaspatel/IdeaProjects/AI-class-practice/venv/lib/python3.8/site-packages (from tensorflow->keras-rl2) (2.0.1)\r\n",
      "Requirement already satisfied: wrapt>=1.11.1 in /Users/tejaspatel/IdeaProjects/AI-class-practice/venv/lib/python3.8/site-packages (from tensorflow->keras-rl2) (1.14.1)\r\n",
      "Requirement already satisfied: h5py<2.11.0,>=2.10.0 in /Users/tejaspatel/IdeaProjects/AI-class-practice/venv/lib/python3.8/site-packages (from tensorflow->keras-rl2) (2.10.0)\r\n",
      "Requirement already satisfied: six>=1.12.0 in /Users/tejaspatel/IdeaProjects/AI-class-practice/venv/lib/python3.8/site-packages (from tensorflow->keras-rl2) (1.16.0)\r\n",
      "Requirement already satisfied: opt-einsum>=2.3.2 in /Users/tejaspatel/IdeaProjects/AI-class-practice/venv/lib/python3.8/site-packages (from tensorflow->keras-rl2) (3.3.0)\r\n",
      "Requirement already satisfied: protobuf>=3.9.2 in /Users/tejaspatel/IdeaProjects/AI-class-practice/venv/lib/python3.8/site-packages (from tensorflow->keras-rl2) (3.19.5)\r\n",
      "Requirement already satisfied: numpy<1.19.0,>=1.16.0 in /Users/tejaspatel/IdeaProjects/AI-class-practice/venv/lib/python3.8/site-packages (from tensorflow->keras-rl2) (1.18.5)\r\n",
      "Requirement already satisfied: wheel>=0.26 in /Users/tejaspatel/IdeaProjects/AI-class-practice/venv/lib/python3.8/site-packages (from tensorflow->keras-rl2) (0.37.1)\r\n",
      "Requirement already satisfied: keras-preprocessing<1.2,>=1.1.1 in /Users/tejaspatel/IdeaProjects/AI-class-practice/venv/lib/python3.8/site-packages (from tensorflow->keras-rl2) (1.1.2)\r\n",
      "Requirement already satisfied: tensorboard<3,>=2.3.0 in /Users/tejaspatel/IdeaProjects/AI-class-practice/venv/lib/python3.8/site-packages (from tensorflow->keras-rl2) (2.10.1)\r\n",
      "Requirement already satisfied: absl-py>=0.7.0 in /Users/tejaspatel/IdeaProjects/AI-class-practice/venv/lib/python3.8/site-packages (from tensorflow->keras-rl2) (1.2.0)\r\n",
      "Requirement already satisfied: google-auth<3,>=1.6.3 in /Users/tejaspatel/IdeaProjects/AI-class-practice/venv/lib/python3.8/site-packages (from tensorboard<3,>=2.3.0->tensorflow->keras-rl2) (2.12.0)\r\n",
      "Requirement already satisfied: google-auth-oauthlib<0.5,>=0.4.1 in /Users/tejaspatel/IdeaProjects/AI-class-practice/venv/lib/python3.8/site-packages (from tensorboard<3,>=2.3.0->tensorflow->keras-rl2) (0.4.6)\r\n",
      "Requirement already satisfied: tensorboard-plugin-wit>=1.6.0 in /Users/tejaspatel/IdeaProjects/AI-class-practice/venv/lib/python3.8/site-packages (from tensorboard<3,>=2.3.0->tensorflow->keras-rl2) (1.8.1)\r\n",
      "Requirement already satisfied: tensorboard-data-server<0.7.0,>=0.6.0 in /Users/tejaspatel/IdeaProjects/AI-class-practice/venv/lib/python3.8/site-packages (from tensorboard<3,>=2.3.0->tensorflow->keras-rl2) (0.6.1)\r\n",
      "Requirement already satisfied: markdown>=2.6.8 in /Users/tejaspatel/IdeaProjects/AI-class-practice/venv/lib/python3.8/site-packages (from tensorboard<3,>=2.3.0->tensorflow->keras-rl2) (3.4.1)\r\n",
      "Requirement already satisfied: setuptools>=41.0.0 in /Users/tejaspatel/IdeaProjects/AI-class-practice/venv/lib/python3.8/site-packages (from tensorboard<3,>=2.3.0->tensorflow->keras-rl2) (65.0.2)\r\n",
      "Requirement already satisfied: requests<3,>=2.21.0 in /Users/tejaspatel/IdeaProjects/AI-class-practice/venv/lib/python3.8/site-packages (from tensorboard<3,>=2.3.0->tensorflow->keras-rl2) (2.28.1)\r\n",
      "Requirement already satisfied: werkzeug>=1.0.1 in /Users/tejaspatel/IdeaProjects/AI-class-practice/venv/lib/python3.8/site-packages (from tensorboard<3,>=2.3.0->tensorflow->keras-rl2) (2.2.2)\r\n",
      "Requirement already satisfied: cachetools<6.0,>=2.0.0 in /Users/tejaspatel/IdeaProjects/AI-class-practice/venv/lib/python3.8/site-packages (from google-auth<3,>=1.6.3->tensorboard<3,>=2.3.0->tensorflow->keras-rl2) (5.2.0)\r\n",
      "Requirement already satisfied: rsa<5,>=3.1.4 in /Users/tejaspatel/IdeaProjects/AI-class-practice/venv/lib/python3.8/site-packages (from google-auth<3,>=1.6.3->tensorboard<3,>=2.3.0->tensorflow->keras-rl2) (4.9)\r\n",
      "Requirement already satisfied: pyasn1-modules>=0.2.1 in /Users/tejaspatel/IdeaProjects/AI-class-practice/venv/lib/python3.8/site-packages (from google-auth<3,>=1.6.3->tensorboard<3,>=2.3.0->tensorflow->keras-rl2) (0.2.8)\r\n",
      "Requirement already satisfied: requests-oauthlib>=0.7.0 in /Users/tejaspatel/IdeaProjects/AI-class-practice/venv/lib/python3.8/site-packages (from google-auth-oauthlib<0.5,>=0.4.1->tensorboard<3,>=2.3.0->tensorflow->keras-rl2) (1.3.1)\r\n",
      "Requirement already satisfied: importlib-metadata>=4.4 in /Users/tejaspatel/IdeaProjects/AI-class-practice/venv/lib/python3.8/site-packages (from markdown>=2.6.8->tensorboard<3,>=2.3.0->tensorflow->keras-rl2) (4.13.0)\r\n",
      "Requirement already satisfied: certifi>=2017.4.17 in /Users/tejaspatel/IdeaProjects/AI-class-practice/venv/lib/python3.8/site-packages (from requests<3,>=2.21.0->tensorboard<3,>=2.3.0->tensorflow->keras-rl2) (2022.9.24)\r\n",
      "Requirement already satisfied: urllib3<1.27,>=1.21.1 in /Users/tejaspatel/IdeaProjects/AI-class-practice/venv/lib/python3.8/site-packages (from requests<3,>=2.21.0->tensorboard<3,>=2.3.0->tensorflow->keras-rl2) (1.26.12)\r\n",
      "Requirement already satisfied: charset-normalizer<3,>=2 in /Users/tejaspatel/IdeaProjects/AI-class-practice/venv/lib/python3.8/site-packages (from requests<3,>=2.21.0->tensorboard<3,>=2.3.0->tensorflow->keras-rl2) (2.1.1)\r\n",
      "Requirement already satisfied: idna<4,>=2.5 in /Users/tejaspatel/IdeaProjects/AI-class-practice/venv/lib/python3.8/site-packages (from requests<3,>=2.21.0->tensorboard<3,>=2.3.0->tensorflow->keras-rl2) (3.4)\r\n",
      "Requirement already satisfied: MarkupSafe>=2.1.1 in /Users/tejaspatel/IdeaProjects/AI-class-practice/venv/lib/python3.8/site-packages (from werkzeug>=1.0.1->tensorboard<3,>=2.3.0->tensorflow->keras-rl2) (2.1.1)\r\n",
      "Requirement already satisfied: zipp>=0.5 in /Users/tejaspatel/IdeaProjects/AI-class-practice/venv/lib/python3.8/site-packages (from importlib-metadata>=4.4->markdown>=2.6.8->tensorboard<3,>=2.3.0->tensorflow->keras-rl2) (3.8.1)\r\n",
      "Requirement already satisfied: pyasn1<0.5.0,>=0.4.6 in /Users/tejaspatel/IdeaProjects/AI-class-practice/venv/lib/python3.8/site-packages (from pyasn1-modules>=0.2.1->google-auth<3,>=1.6.3->tensorboard<3,>=2.3.0->tensorflow->keras-rl2) (0.4.8)\r\n",
      "Requirement already satisfied: oauthlib>=3.0.0 in /Users/tejaspatel/IdeaProjects/AI-class-practice/venv/lib/python3.8/site-packages (from requests-oauthlib>=0.7.0->google-auth-oauthlib<0.5,>=0.4.1->tensorboard<3,>=2.3.0->tensorflow->keras-rl2) (3.2.1)\r\n",
      "Requirement already satisfied: pygame in /Users/tejaspatel/IdeaProjects/AI-class-practice/venv/lib/python3.8/site-packages (2.1.2)\r\n"
     ]
    }
   ],
   "source": [
    "!pip install tensorflow==2.3.0\n",
    "!pip install gym\n",
    "!pip install keras\n",
    "!pip install keras-rl2\n",
    "!pip install pygame"
   ],
   "metadata": {
    "collapsed": false,
    "pycharm": {
     "name": "#%%\n"
    }
   }
  },
  {
   "cell_type": "markdown",
   "source": [
    "#### Importing OpenAI gym and other dependencies and testing environments"
   ],
   "metadata": {
    "collapsed": false,
    "pycharm": {
     "name": "#%% md\n"
    }
   }
  },
  {
   "cell_type": "code",
   "execution_count": 5,
   "outputs": [],
   "source": [
    "import random\n",
    "import gym\n",
    "import os\n",
    "os.environ['SDL_VIDEODRIVER']='dummy'"
   ],
   "metadata": {
    "collapsed": false,
    "pycharm": {
     "name": "#%%\n"
    }
   }
  },
  {
   "cell_type": "markdown",
   "source": [
    "#### Declaring environment and creating states"
   ],
   "metadata": {
    "collapsed": false,
    "pycharm": {
     "name": "#%% md\n"
    }
   }
  },
  {
   "cell_type": "code",
   "execution_count": 6,
   "outputs": [
    {
     "name": "stdout",
     "output_type": "stream",
     "text": [
      "number os states: 4\n",
      "number os actions: 2\n"
     ]
    }
   ],
   "source": [
    "env = gym.make(\"CartPole-v0\")\n",
    "states = env.observation_space.shape[0]\n",
    "print(\"number os states:\", states)\n",
    "actions = env.action_space.n\n",
    "print(\"number os actions:\", actions)"
   ],
   "metadata": {
    "collapsed": false,
    "pycharm": {
     "name": "#%%\n"
    }
   }
  },
  {
   "cell_type": "markdown",
   "source": [
    "#### Creating Iteration with n episodes and passing the action"
   ],
   "metadata": {
    "collapsed": false,
    "pycharm": {
     "name": "#%% md\n"
    }
   }
  },
  {
   "cell_type": "code",
   "execution_count": 7,
   "outputs": [
    {
     "name": "stdout",
     "output_type": "stream",
     "text": [
      "Episode:1 Score:28.0\n",
      "Episode:2 Score:14.0\n",
      "Episode:3 Score:22.0\n",
      "Episode:4 Score:39.0\n",
      "Episode:5 Score:54.0\n",
      "Episode:6 Score:32.0\n",
      "Episode:7 Score:19.0\n",
      "Episode:8 Score:22.0\n",
      "Episode:9 Score:12.0\n",
      "Episode:10 Score:16.0\n",
      "Episode:11 Score:24.0\n",
      "Episode:12 Score:10.0\n",
      "Episode:13 Score:15.0\n",
      "Episode:14 Score:26.0\n",
      "Episode:15 Score:27.0\n",
      "Episode:16 Score:20.0\n",
      "Episode:17 Score:20.0\n",
      "Episode:18 Score:12.0\n",
      "Episode:19 Score:33.0\n"
     ]
    }
   ],
   "source": [
    "episodes = 10\n",
    "for episode in range(1, episodes+10):\n",
    "    state = env.reset()\n",
    "    done = False\n",
    "    score = 0\n",
    "    while not done:\n",
    "        env.render()\n",
    "        action = random.choice([0, 1])\n",
    "        n_state, reward, done, info = env.step(action)\n",
    "        score += reward\n",
    "    print(\"Episode:{} Score:{}\".format(episode, score))"
   ],
   "metadata": {
    "collapsed": false,
    "pycharm": {
     "name": "#%%\n"
    }
   }
  },
  {
   "cell_type": "markdown",
   "source": [
    "#### Modelling with Keras"
   ],
   "metadata": {
    "collapsed": false,
    "pycharm": {
     "name": "#%% md\n"
    }
   }
  },
  {
   "cell_type": "code",
   "execution_count": 8,
   "outputs": [],
   "source": [
    "import numpy as np\n",
    "from tensorflow.keras.models import Sequential\n",
    "from tensorflow.keras.layers import Dense, Flatten\n",
    "from tensorflow.keras.optimizers import Adam"
   ],
   "metadata": {
    "collapsed": false,
    "pycharm": {
     "name": "#%%\n"
    }
   }
  },
  {
   "cell_type": "code",
   "execution_count": 14,
   "outputs": [],
   "source": [
    "import tensorflow\n",
    "\n",
    "def build_model(states, actions):\n",
    "    model = Sequential()\n",
    "    model.add(Flatten(input_shape=(1, states)))\n",
    "    model.add(Dense(units=24, activation='relu' ))\n",
    "    model.add(Dense(units=24, activation='relu'))\n",
    "    model.add(Dense(units=actions, activation='linear'))\n",
    "    return model"
   ],
   "metadata": {
    "collapsed": false,
    "pycharm": {
     "name": "#%%\n"
    }
   }
  },
  {
   "cell_type": "code",
   "execution_count": 15,
   "outputs": [
    {
     "name": "stdout",
     "output_type": "stream",
     "text": [
      "Model: \"sequential_1\"\n",
      "_________________________________________________________________\n",
      "Layer (type)                 Output Shape              Param #   \n",
      "=================================================================\n",
      "flatten_1 (Flatten)          (None, 4)                 0         \n",
      "_________________________________________________________________\n",
      "dense_3 (Dense)              (None, 24)                120       \n",
      "_________________________________________________________________\n",
      "dense_4 (Dense)              (None, 24)                600       \n",
      "_________________________________________________________________\n",
      "dense_5 (Dense)              (None, 2)                 50        \n",
      "=================================================================\n",
      "Total params: 770\n",
      "Trainable params: 770\n",
      "Non-trainable params: 0\n",
      "_________________________________________________________________\n"
     ]
    }
   ],
   "source": [
    "model = build_model(states, actions)\n",
    "model.summary()"
   ],
   "metadata": {
    "collapsed": false,
    "pycharm": {
     "name": "#%%\n"
    }
   }
  },
  {
   "cell_type": "markdown",
   "source": [
    "#### Initialising Agent with Keras - Reinforced Learning"
   ],
   "metadata": {
    "collapsed": false,
    "pycharm": {
     "name": "#%% md\n"
    }
   }
  },
  {
   "cell_type": "code",
   "execution_count": 16,
   "outputs": [],
   "source": [
    "from rl.agents import DQNAgent\n",
    "from rl.policy import BoltzmannQPolicy\n",
    "from rl.memory import SequentialMemory"
   ],
   "metadata": {
    "collapsed": false,
    "pycharm": {
     "name": "#%%\n"
    }
   }
  },
  {
   "cell_type": "code",
   "execution_count": 17,
   "outputs": [],
   "source": [
    "def build_agent(model, actions):\n",
    "    policy = BoltzmannQPolicy()\n",
    "    memory = SequentialMemory(limit=50000, window_length=1)\n",
    "    dqn = DQNAgent(model=model, memory=memory, policy=policy,\n",
    "                   nb_actions=actions, nb_steps_warmup=10, target_model_update=1e-2)\n",
    "    return dqn"
   ],
   "metadata": {
    "collapsed": false,
    "pycharm": {
     "name": "#%%\n"
    }
   }
  },
  {
   "cell_type": "code",
   "execution_count": 18,
   "outputs": [
    {
     "name": "stdout",
     "output_type": "stream",
     "text": [
      "Training for 50000 steps ...\n",
      "Interval 1 (0 steps performed)\n",
      "WARNING:tensorflow:From /Users/tejaspatel/IdeaProjects/AI-class-practice/venv/lib/python3.8/site-packages/tensorflow/python/keras/engine/training_v1.py:2070: Model.state_updates (from tensorflow.python.keras.engine.training) is deprecated and will be removed in a future version.\n",
      "Instructions for updating:\n",
      "This property should not be used in TensorFlow 2.0, as updates are applied automatically.\n",
      "    1/10000 [..............................] - ETA: 22:01 - reward: 1.0000"
     ]
    },
    {
     "name": "stderr",
     "output_type": "stream",
     "text": [
      "/Users/tejaspatel/IdeaProjects/AI-class-practice/venv/lib/python3.8/site-packages/rl/memory.py:37: UserWarning: Not enough entries to sample without replacement. Consider increasing your warm-up phase to avoid oversampling!\n",
      "  warnings.warn('Not enough entries to sample without replacement. Consider increasing your warm-up phase to avoid oversampling!')\n"
     ]
    },
    {
     "name": "stdout",
     "output_type": "stream",
     "text": [
      "10000/10000 [==============================] - 103s 10ms/step - reward: 1.0000\n",
      "107 episodes - episode_reward: 92.925 [10.000, 200.000] - loss: 2.758 - mae: 18.731 - mean_q: 37.939\n",
      "\n",
      "Interval 2 (10000 steps performed)\n",
      "10000/10000 [==============================] - 93s 9ms/step - reward: 1.0000\n",
      "51 episodes - episode_reward: 194.137 [171.000, 200.000] - loss: 5.421 - mae: 37.890 - mean_q: 76.689\n",
      "\n",
      "Interval 3 (20000 steps performed)\n",
      "10000/10000 [==============================] - 95s 10ms/step - reward: 1.0000\n",
      "51 episodes - episode_reward: 198.059 [174.000, 200.000] - loss: 5.478 - mae: 40.641 - mean_q: 82.015\n",
      "\n",
      "Interval 4 (30000 steps performed)\n",
      "10000/10000 [==============================] - 84s 8ms/step - reward: 1.0000\n",
      "51 episodes - episode_reward: 195.314 [148.000, 200.000] - loss: 4.532 - mae: 38.766 - mean_q: 77.992\n",
      "\n",
      "Interval 5 (40000 steps performed)\n",
      "10000/10000 [==============================] - 86s 9ms/step - reward: 1.0000\n",
      "done, took 461.556 seconds\n"
     ]
    },
    {
     "data": {
      "text/plain": "<tensorflow.python.keras.callbacks.History at 0x14da83550>"
     },
     "execution_count": 18,
     "metadata": {},
     "output_type": "execute_result"
    }
   ],
   "source": [
    "dqn = build_agent(model, actions)\n",
    "dqn.compile(Adam(lr=1e-3), metrics=['mae'])\n",
    "dqn.fit(env, nb_steps=50000, visualize=False, verbose=1)"
   ],
   "metadata": {
    "collapsed": false,
    "pycharm": {
     "name": "#%%\n"
    }
   }
  },
  {
   "cell_type": "code",
   "execution_count": 19,
   "outputs": [
    {
     "name": "stdout",
     "output_type": "stream",
     "text": [
      "Testing for 15 episodes ...\n",
      "Episode 1: reward: 200.000, steps: 200\n",
      "Episode 2: reward: 200.000, steps: 200\n",
      "Episode 3: reward: 200.000, steps: 200\n",
      "Episode 4: reward: 192.000, steps: 192\n",
      "Episode 5: reward: 187.000, steps: 187\n",
      "Episode 6: reward: 200.000, steps: 200\n",
      "Episode 7: reward: 200.000, steps: 200\n",
      "Episode 8: reward: 195.000, steps: 195\n",
      "Episode 9: reward: 183.000, steps: 183\n",
      "Episode 10: reward: 200.000, steps: 200\n",
      "Episode 11: reward: 176.000, steps: 176\n",
      "Episode 12: reward: 199.000, steps: 199\n",
      "Episode 13: reward: 183.000, steps: 183\n",
      "Episode 14: reward: 200.000, steps: 200\n",
      "Episode 15: reward: 200.000, steps: 200\n",
      "194.33333333333334\n"
     ]
    }
   ],
   "source": [
    "scores = dqn.test(env, nb_episodes=15, visualize=False)\n",
    "print(np.mean(scores.history['episode_reward']))"
   ],
   "metadata": {
    "collapsed": false,
    "pycharm": {
     "name": "#%%\n"
    }
   }
  },
  {
   "cell_type": "code",
   "execution_count": 20,
   "outputs": [
    {
     "name": "stdout",
     "output_type": "stream",
     "text": [
      "Testing for 5 episodes ...\n",
      "Episode 1: reward: 200.000, steps: 200\n",
      "Episode 2: reward: 200.000, steps: 200\n",
      "Episode 3: reward: 200.000, steps: 200\n",
      "Episode 4: reward: 200.000, steps: 200\n",
      "Episode 5: reward: 196.000, steps: 196\n"
     ]
    }
   ],
   "source": [
    "_ = dqn.test(env, nb_episodes=5, visualize=True)"
   ],
   "metadata": {
    "collapsed": false,
    "pycharm": {
     "name": "#%%\n"
    }
   }
  },
  {
   "cell_type": "markdown",
   "source": [
    "##### references\n",
    "##### 1. https://www.tensorflow.org/tutorials/reinforcement_learning/actor_critic\n",
    "##### 2. https://gsurma.medium.com/cartpole-introduction-to-reinforcement-learning-ed0eb5b58288\n",
    "##### 3. https://github.com/ChaithanyaVamshi/CartPole-DQN-Reinforcementlearning\n",
    "##### 4. https://github.com/alishafique3/CartPole-DQN-model-in-Google-Colab/blob/main/RL_Classical_Framework.ipynb\n",
    "##### 5. https://stackoverflow.com/questions/tagged/dqn"
   ],
   "metadata": {
    "collapsed": false,
    "pycharm": {
     "name": "#%% md\n"
    }
   }
  }
 ],
 "metadata": {
  "kernelspec": {
   "display_name": "Python 3",
   "language": "python",
   "name": "python3"
  },
  "language_info": {
   "codemirror_mode": {
    "name": "ipython",
    "version": 2
   },
   "file_extension": ".py",
   "mimetype": "text/x-python",
   "name": "python",
   "nbconvert_exporter": "python",
   "pygments_lexer": "ipython2",
   "version": "2.7.6"
  }
 },
 "nbformat": 4,
 "nbformat_minor": 0
}