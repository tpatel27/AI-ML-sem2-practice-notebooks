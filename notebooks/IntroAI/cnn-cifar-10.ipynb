{
 "cells": [
  {
   "cell_type": "code",
   "execution_count": 2,
   "metadata": {
    "collapsed": true
   },
   "outputs": [],
   "source": [
    "import matplotlib.pyplot as plt\n",
    "import tensorflow as tf\n",
    "from tensorflow import keras\n",
    "from keras import datasets,layers,models\n",
    "import matplotlib.pyplot as mlt\n",
    "import numpy as np"
   ]
  },
  {
   "cell_type": "code",
   "execution_count": 3,
   "outputs": [
    {
     "name": "stdout",
     "output_type": "stream",
     "text": [
      "Downloading data from https://www.cs.toronto.edu/~kriz/cifar-10-python.tar.gz\n",
      "170498071/170498071 [==============================] - 36s 0us/step\n"
     ]
    },
    {
     "data": {
      "text/plain": "(50000, 1)"
     },
     "execution_count": 3,
     "metadata": {},
     "output_type": "execute_result"
    }
   ],
   "source": [
    "(X_train, y_train), (X_test, y_test) = datasets.cifar10.load_data()\n",
    "y_train.shape"
   ],
   "metadata": {
    "collapsed": false
   }
  },
  {
   "cell_type": "code",
   "execution_count": 4,
   "outputs": [
    {
     "data": {
      "text/plain": "(50000, 32, 32, 3)"
     },
     "execution_count": 4,
     "metadata": {},
     "output_type": "execute_result"
    }
   ],
   "source": [
    "X_train.shape"
   ],
   "metadata": {
    "collapsed": false
   }
  },
  {
   "cell_type": "code",
   "execution_count": 5,
   "outputs": [
    {
     "data": {
      "text/plain": "(50000, 1)"
     },
     "execution_count": 5,
     "metadata": {},
     "output_type": "execute_result"
    }
   ],
   "source": [
    "y_train.shape"
   ],
   "metadata": {
    "collapsed": false
   }
  },
  {
   "cell_type": "code",
   "execution_count": 6,
   "outputs": [
    {
     "data": {
      "text/plain": "array([[6],\n       [9],\n       [9],\n       [4],\n       [1]], dtype=uint8)"
     },
     "execution_count": 6,
     "metadata": {},
     "output_type": "execute_result"
    }
   ],
   "source": [
    "y_train[:5]"
   ],
   "metadata": {
    "collapsed": false
   }
  },
  {
   "cell_type": "markdown",
   "source": [
    "Changing y_train from 2D array to 1D"
   ],
   "metadata": {
    "collapsed": false
   }
  },
  {
   "cell_type": "code",
   "execution_count": 7,
   "outputs": [
    {
     "data": {
      "text/plain": "array([6, 9, 9, 4, 1], dtype=uint8)"
     },
     "execution_count": 7,
     "metadata": {},
     "output_type": "execute_result"
    }
   ],
   "source": [
    "y_train = y_train.reshape(-1,)\n",
    "y_train[:5]"
   ],
   "metadata": {
    "collapsed": false
   }
  },
  {
   "cell_type": "code",
   "execution_count": 8,
   "outputs": [],
   "source": [
    "y_test = y_test.reshape(-1,)"
   ],
   "metadata": {
    "collapsed": false
   }
  },
  {
   "cell_type": "code",
   "execution_count": 9,
   "outputs": [],
   "source": [
    "classes = [\"airplane\",\"automobile\",\"bird\",\"cat\",\"deer\",\"dog\",\"frog\",\"horse\",\"ship\",\"truck\"]"
   ],
   "metadata": {
    "collapsed": false
   }
  },
  {
   "cell_type": "code",
   "execution_count": 10,
   "outputs": [],
   "source": [
    "def plot_sample(X,y,index):\n",
    "    plt.figure(figsize = (15,2))\n",
    "    plt.imshow((X[index]))\n",
    "    plt.xlabel(classes[y[index]])"
   ],
   "metadata": {
    "collapsed": false
   }
  },
  {
   "cell_type": "code",
   "execution_count": 16,
   "outputs": [
    {
     "data": {
      "text/plain": "<Figure size 1500x200 with 1 Axes>",
      "image/png": "[encoded data removed]"
     },
     "metadata": {},
     "output_type": "display_data"
    }
   ],
   "source": [
    "plot_sample(X_train, y_train,277)"
   ],
   "metadata": {
    "collapsed": false
   }
  },
  {
   "cell_type": "code",
   "execution_count": 17,
   "outputs": [],
   "source": [
    "X_train = X_train/255.0\n",
    "X_test = X_test/255.0"
   ],
   "metadata": {
    "collapsed": false
   }
  },
  {
   "cell_type": "code",
   "execution_count": 18,
   "outputs": [
    {
     "data": {
      "text/plain": "array([[[0.20784314, 0.25490196, 0.20784314],\n        [0.21176471, 0.24705882, 0.20392157],\n        [0.21960784, 0.23529412, 0.19607843],\n        ...,\n        [0.18431373, 0.2       , 0.19607843],\n        [0.16078431, 0.17647059, 0.17254902],\n        [0.09411765, 0.10980392, 0.10588235]],\n\n       [[0.18039216, 0.23137255, 0.16078431],\n        [0.20784314, 0.24313725, 0.17647059],\n        [0.21176471, 0.23137255, 0.17254902],\n        ...,\n        [0.16470588, 0.18039216, 0.17647059],\n        [0.15294118, 0.16862745, 0.16470588],\n        [0.10980392, 0.1254902 , 0.12156863]],\n\n       [[0.17647059, 0.23137255, 0.14901961],\n        [0.19607843, 0.23529412, 0.16078431],\n        [0.18039216, 0.20392157, 0.13333333],\n        ...,\n        [0.14901961, 0.16470588, 0.16078431],\n        [0.14117647, 0.15686275, 0.15294118],\n        [0.11372549, 0.12941176, 0.1254902 ]],\n\n       ...,\n\n       [[0.27843137, 0.3254902 , 0.25882353],\n        [0.29019608, 0.3254902 , 0.25882353],\n        [0.31372549, 0.33333333, 0.2627451 ],\n        ...,\n        [0.2       , 0.21176471, 0.12941176],\n        [0.18039216, 0.19215686, 0.13333333],\n        [0.19215686, 0.19607843, 0.16078431]],\n\n       [[0.29411765, 0.32156863, 0.2627451 ],\n        [0.30980392, 0.33333333, 0.27058824],\n        [0.31764706, 0.33333333, 0.2627451 ],\n        ...,\n        [0.23921569, 0.25490196, 0.16078431],\n        [0.25098039, 0.2627451 , 0.18823529],\n        [0.18823529, 0.19607843, 0.16078431]],\n\n       [[0.33333333, 0.3254902 , 0.27843137],\n        [0.33333333, 0.32941176, 0.27843137],\n        [0.3372549 , 0.3372549 , 0.2745098 ],\n        ...,\n        [0.23921569, 0.25490196, 0.15294118],\n        [0.25098039, 0.2627451 , 0.18039216],\n        [0.19215686, 0.19607843, 0.16078431]]])"
     },
     "execution_count": 18,
     "metadata": {},
     "output_type": "execute_result"
    }
   ],
   "source": [
    "X_train[10]"
   ],
   "metadata": {
    "collapsed": false
   }
  },
  {
   "cell_type": "code",
   "execution_count": 20,
   "outputs": [
    {
     "name": "stdout",
     "output_type": "stream",
     "text": [
      "Epoch 1/5\n",
      "1563/1563 [==============================] - 142s 90ms/step - loss: 1.8098 - accuracy: 0.3564\n",
      "Epoch 2/5\n",
      "1563/1563 [==============================] - 118s 76ms/step - loss: 1.6233 - accuracy: 0.4275\n",
      "Epoch 3/5\n",
      "1563/1563 [==============================] - 108s 69ms/step - loss: 1.5435 - accuracy: 0.4564\n",
      "Epoch 4/5\n",
      "1563/1563 [==============================] - 122s 78ms/step - loss: 1.4815 - accuracy: 0.4764\n",
      "Epoch 5/5\n",
      "1563/1563 [==============================] - 116s 74ms/step - loss: 1.4301 - accuracy: 0.4982\n"
     ]
    },
    {
     "data": {
      "text/plain": "<keras.callbacks.History at 0x1251d9bb0>"
     },
     "execution_count": 20,
     "metadata": {},
     "output_type": "execute_result"
    }
   ],
   "source": [
    "ann = models.Sequential([\n",
    "    layers.Flatten(input_shape=(32,32,3)),\n",
    "    layers.Dense(3000, activation='relu'),\n",
    "    layers.Dense(1000, activation='relu'),\n",
    "    layers.Dense(10, activation='sigmoid'),\n",
    "])\n",
    "\n",
    "ann.compile(optimizer='SGD',\n",
    "            loss='sparse_categorical_crossentropy',\n",
    "            metrics=['accuracy'])\n",
    "\n",
    "ann.fit(X_train, y_train, epochs=5)"
   ],
   "metadata": {
    "collapsed": false
   }
  },
  {
   "cell_type": "markdown",
   "source": [
    "Accuracy after 5 epochs is almost 50%"
   ],
   "metadata": {
    "collapsed": false
   }
  },
  {
   "cell_type": "code",
   "execution_count": 22,
   "outputs": [
    {
     "name": "stdout",
     "output_type": "stream",
     "text": [
      "313/313 [==============================] - 7s 21ms/step\n",
      "classification report: \n",
      "               precision    recall  f1-score   support\n",
      "\n",
      "           0       0.47      0.62      0.54      1000\n",
      "           1       0.50      0.74      0.60      1000\n",
      "           2       0.34      0.42      0.37      1000\n",
      "           3       0.44      0.15      0.22      1000\n",
      "           4       0.57      0.17      0.27      1000\n",
      "           5       0.34      0.54      0.42      1000\n",
      "           6       0.53      0.56      0.54      1000\n",
      "           7       0.69      0.39      0.50      1000\n",
      "           8       0.59      0.63      0.61      1000\n",
      "           9       0.53      0.52      0.53      1000\n",
      "\n",
      "    accuracy                           0.48     10000\n",
      "   macro avg       0.50      0.48      0.46     10000\n",
      "weighted avg       0.50      0.48      0.46     10000\n",
      "\n"
     ]
    }
   ],
   "source": [
    "from sklearn.metrics import confusion_matrix, classification_report\n",
    "y_pred = ann.predict(X_test)\n",
    "y_pred_classes = [np.argmax(element) for element in y_pred]\n",
    "\n",
    "print(\"classification report: \\n\", classification_report(y_test, y_pred_classes))"
   ],
   "metadata": {
    "collapsed": false
   }
  },
  {
   "cell_type": "code",
   "execution_count": 24,
   "outputs": [],
   "source": [
    "cnn = models.Sequential([\n",
    "    layers.Conv2D(filters=32, kernel_size=(3,3), activation='relu',input_shape=(32,32,3)),\n",
    "    layers.MaxPooling2D((2,2)),\n",
    "\n",
    "    layers.Conv2D(filters=64, kernel_size=(3,3), activation='relu'),\n",
    "    layers.MaxPooling2D((2,2)),\n",
    "\n",
    "    layers.Flatten(),\n",
    "    layers.Dense(64, activation='relu'),\n",
    "    # Softmax is used to normalize the probability\n",
    "    layers.Dense(10, activation='softmax'),\n",
    "])"
   ],
   "metadata": {
    "collapsed": false
   }
  },
  {
   "cell_type": "code",
   "execution_count": 25,
   "outputs": [],
   "source": [
    "cnn.compile(optimizer='adam',\n",
    "            loss='sparse_categorical_crossentropy',\n",
    "            metrics=['accuracy'])"
   ],
   "metadata": {
    "collapsed": false
   }
  },
  {
   "cell_type": "code",
   "execution_count": 26,
   "outputs": [
    {
     "name": "stdout",
     "output_type": "stream",
     "text": [
      "Epoch 1/5\n",
      "1563/1563 [==============================] - 61s 38ms/step - loss: 1.4709 - accuracy: 0.4704\n",
      "Epoch 2/5\n",
      "1563/1563 [==============================] - 60s 38ms/step - loss: 1.1118 - accuracy: 0.6091\n",
      "Epoch 3/5\n",
      "1563/1563 [==============================] - 59s 38ms/step - loss: 0.9707 - accuracy: 0.6608\n",
      "Epoch 4/5\n",
      "1563/1563 [==============================] - 68s 44ms/step - loss: 0.8833 - accuracy: 0.6926\n",
      "Epoch 5/5\n",
      "1563/1563 [==============================] - 58s 37ms/step - loss: 0.8133 - accuracy: 0.7153\n"
     ]
    },
    {
     "data": {
      "text/plain": "<keras.callbacks.History at 0x12f4279d0>"
     },
     "execution_count": 26,
     "metadata": {},
     "output_type": "execute_result"
    }
   ],
   "source": [
    "cnn.fit(X_train, y_train, epochs=5)"
   ],
   "metadata": {
    "collapsed": false
   }
  },
  {
   "cell_type": "code",
   "execution_count": 27,
   "outputs": [
    {
     "name": "stdout",
     "output_type": "stream",
     "text": [
      "313/313 [==============================] - 4s 11ms/step\n",
      "classification report: \n",
      "               precision    recall  f1-score   support\n",
      "\n",
      "           0       0.70      0.75      0.73      1000\n",
      "           1       0.89      0.72      0.80      1000\n",
      "           2       0.54      0.64      0.59      1000\n",
      "           3       0.54      0.45      0.49      1000\n",
      "           4       0.66      0.61      0.64      1000\n",
      "           5       0.56      0.65      0.60      1000\n",
      "           6       0.71      0.82      0.76      1000\n",
      "           7       0.77      0.74      0.75      1000\n",
      "           8       0.86      0.73      0.79      1000\n",
      "           9       0.76      0.79      0.78      1000\n",
      "\n",
      "    accuracy                           0.69     10000\n",
      "   macro avg       0.70      0.69      0.69     10000\n",
      "weighted avg       0.70      0.69      0.69     10000\n",
      "\n"
     ]
    }
   ],
   "source": [
    "y_pred_cnn = cnn.predict(X_test)\n",
    "y_pred_classes_cnn = [np.argmax(element) for element in y_pred_cnn]\n",
    "\n",
    "print(\"classification report: \\n\", classification_report(y_test, y_pred_classes_cnn))"
   ],
   "metadata": {
    "collapsed": false
   }
  }
 ],
 "metadata": {
  "kernelspec": {
   "display_name": "Python 3",
   "language": "python",
   "name": "python3"
  },
  "language_info": {
   "codemirror_mode": {
    "name": "ipython",
    "version": 2
   },
   "file_extension": ".py",
   "mimetype": "text/x-python",
   "name": "python",
   "nbconvert_exporter": "python",
   "pygments_lexer": "ipython2",
   "version": "2.7.6"
  }
 },
 "nbformat": 4,
 "nbformat_minor": 0
}
