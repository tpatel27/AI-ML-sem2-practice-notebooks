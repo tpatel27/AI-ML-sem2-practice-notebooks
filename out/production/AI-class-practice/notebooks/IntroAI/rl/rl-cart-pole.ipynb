{
 "cells": [
  {
   "cell_type": "markdown",
   "source": [
    "#### Installing necessary libs"
   ],
   "metadata": {
    "collapsed": false,
    "pycharm": {
     "name": "#%% md\n"
    }
   }
  },
  {
   "cell_type": "code",
   "execution_count": 12,
   "outputs": [
    {
     "name": "stdout",
     "output_type": "stream",
     "text": [
      "Requirement already satisfied: tensorflow==2.3.0 in /Users/tejaspatel/IdeaProjects/AI-class-practice/venv/lib/python3.8/site-packages (2.3.0)\r\n",
      "Requirement already satisfied: six>=1.12.0 in /Users/tejaspatel/IdeaProjects/AI-class-practice/venv/lib/python3.8/site-packages (from tensorflow==2.3.0) (1.16.0)\r\n",
      "Requirement already satisfied: protobuf>=3.9.2 in /Users/tejaspatel/IdeaProjects/AI-class-practice/venv/lib/python3.8/site-packages (from tensorflow==2.3.0) (3.19.5)\r\n",
      "Requirement already satisfied: tensorboard<3,>=2.3.0 in /Users/tejaspatel/IdeaProjects/AI-class-practice/venv/lib/python3.8/site-packages (from tensorflow==2.3.0) (2.10.1)\r\n",
      "Requirement already satisfied: opt-einsum>=2.3.2 in /Users/tejaspatel/IdeaProjects/AI-class-practice/venv/lib/python3.8/site-packages (from tensorflow==2.3.0) (3.3.0)\r\n",
      "Requirement already satisfied: tensorflow-estimator<2.4.0,>=2.3.0 in /Users/tejaspatel/IdeaProjects/AI-class-practice/venv/lib/python3.8/site-packages (from tensorflow==2.3.0) (2.3.0)\r\n",
      "Requirement already satisfied: termcolor>=1.1.0 in /Users/tejaspatel/IdeaProjects/AI-class-practice/venv/lib/python3.8/site-packages (from tensorflow==2.3.0) (2.0.1)\r\n",
      "Requirement already satisfied: numpy<1.19.0,>=1.16.0 in /Users/tejaspatel/IdeaProjects/AI-class-practice/venv/lib/python3.8/site-packages (from tensorflow==2.3.0) (1.18.5)\r\n",
      "Requirement already satisfied: wrapt>=1.11.1 in /Users/tejaspatel/IdeaProjects/AI-class-practice/venv/lib/python3.8/site-packages (from tensorflow==2.3.0) (1.14.1)\r\n",
      "Requirement already satisfied: wheel>=0.26 in /Users/tejaspatel/IdeaProjects/AI-class-practice/venv/lib/python3.8/site-packages (from tensorflow==2.3.0) (0.37.1)\r\n",
      "Requirement already satisfied: scipy==1.4.1 in /Users/tejaspatel/IdeaProjects/AI-class-practice/venv/lib/python3.8/site-packages (from tensorflow==2.3.0) (1.4.1)\r\n",
      "Requirement already satisfied: gast==0.3.3 in /Users/tejaspatel/IdeaProjects/AI-class-practice/venv/lib/python3.8/site-packages (from tensorflow==2.3.0) (0.3.3)\r\n",
      "Requirement already satisfied: google-pasta>=0.1.8 in /Users/tejaspatel/IdeaProjects/AI-class-practice/venv/lib/python3.8/site-packages (from tensorflow==2.3.0) (0.2.0)\r\n",
      "Requirement already satisfied: grpcio>=1.8.6 in /Users/tejaspatel/IdeaProjects/AI-class-practice/venv/lib/python3.8/site-packages (from tensorflow==2.3.0) (1.49.1)\r\n",
      "Requirement already satisfied: h5py<2.11.0,>=2.10.0 in /Users/tejaspatel/IdeaProjects/AI-class-practice/venv/lib/python3.8/site-packages (from tensorflow==2.3.0) (2.10.0)\r\n",
      "Requirement already satisfied: keras-preprocessing<1.2,>=1.1.1 in /Users/tejaspatel/IdeaProjects/AI-class-practice/venv/lib/python3.8/site-packages (from tensorflow==2.3.0) (1.1.2)\r\n",
      "Requirement already satisfied: astunparse==1.6.3 in /Users/tejaspatel/IdeaProjects/AI-class-practice/venv/lib/python3.8/site-packages (from tensorflow==2.3.0) (1.6.3)\r\n",
      "Requirement already satisfied: absl-py>=0.7.0 in /Users/tejaspatel/IdeaProjects/AI-class-practice/venv/lib/python3.8/site-packages (from tensorflow==2.3.0) (1.2.0)\r\n",
      "Requirement already satisfied: google-auth-oauthlib<0.5,>=0.4.1 in /Users/tejaspatel/IdeaProjects/AI-class-practice/venv/lib/python3.8/site-packages (from tensorboard<3,>=2.3.0->tensorflow==2.3.0) (0.4.6)\r\n",
      "Requirement already satisfied: google-auth<3,>=1.6.3 in /Users/tejaspatel/IdeaProjects/AI-class-practice/venv/lib/python3.8/site-packages (from tensorboard<3,>=2.3.0->tensorflow==2.3.0) (2.12.0)\r\n",
      "Requirement already satisfied: setuptools>=41.0.0 in /Users/tejaspatel/IdeaProjects/AI-class-practice/venv/lib/python3.8/site-packages (from tensorboard<3,>=2.3.0->tensorflow==2.3.0) (65.0.2)\r\n",
      "Requirement already satisfied: requests<3,>=2.21.0 in /Users/tejaspatel/IdeaProjects/AI-class-practice/venv/lib/python3.8/site-packages (from tensorboard<3,>=2.3.0->tensorflow==2.3.0) (2.28.1)\r\n",
      "Requirement already satisfied: werkzeug>=1.0.1 in /Users/tejaspatel/IdeaProjects/AI-class-practice/venv/lib/python3.8/site-packages (from tensorboard<3,>=2.3.0->tensorflow==2.3.0) (2.2.2)\r\n",
      "Requirement already satisfied: markdown>=2.6.8 in /Users/tejaspatel/IdeaProjects/AI-class-practice/venv/lib/python3.8/site-packages (from tensorboard<3,>=2.3.0->tensorflow==2.3.0) (3.4.1)\r\n",
      "Requirement already satisfied: tensorboard-plugin-wit>=1.6.0 in /Users/tejaspatel/IdeaProjects/AI-class-practice/venv/lib/python3.8/site-packages (from tensorboard<3,>=2.3.0->tensorflow==2.3.0) (1.8.1)\r\n",
      "Requirement already satisfied: tensorboard-data-server<0.7.0,>=0.6.0 in /Users/tejaspatel/IdeaProjects/AI-class-practice/venv/lib/python3.8/site-packages (from tensorboard<3,>=2.3.0->tensorflow==2.3.0) (0.6.1)\r\n",
      "Requirement already satisfied: rsa<5,>=3.1.4 in /Users/tejaspatel/IdeaProjects/AI-class-practice/venv/lib/python3.8/site-packages (from google-auth<3,>=1.6.3->tensorboard<3,>=2.3.0->tensorflow==2.3.0) (4.9)\r\n",
      "Requirement already satisfied: cachetools<6.0,>=2.0.0 in /Users/tejaspatel/IdeaProjects/AI-class-practice/venv/lib/python3.8/site-packages (from google-auth<3,>=1.6.3->tensorboard<3,>=2.3.0->tensorflow==2.3.0) (5.2.0)\r\n",
      "Requirement already satisfied: pyasn1-modules>=0.2.1 in /Users/tejaspatel/IdeaProjects/AI-class-practice/venv/lib/python3.8/site-packages (from google-auth<3,>=1.6.3->tensorboard<3,>=2.3.0->tensorflow==2.3.0) (0.2.8)\r\n",
      "Requirement already satisfied: requests-oauthlib>=0.7.0 in /Users/tejaspatel/IdeaProjects/AI-class-practice/venv/lib/python3.8/site-packages (from google-auth-oauthlib<0.5,>=0.4.1->tensorboard<3,>=2.3.0->tensorflow==2.3.0) (1.3.1)\r\n",
      "Requirement already satisfied: importlib-metadata>=4.4 in /Users/tejaspatel/IdeaProjects/AI-class-practice/venv/lib/python3.8/site-packages (from markdown>=2.6.8->tensorboard<3,>=2.3.0->tensorflow==2.3.0) (4.13.0)\r\n",
      "Requirement already satisfied: charset-normalizer<3,>=2 in /Users/tejaspatel/IdeaProjects/AI-class-practice/venv/lib/python3.8/site-packages (from requests<3,>=2.21.0->tensorboard<3,>=2.3.0->tensorflow==2.3.0) (2.1.1)\r\n",
      "Requirement already satisfied: urllib3<1.27,>=1.21.1 in /Users/tejaspatel/IdeaProjects/AI-class-practice/venv/lib/python3.8/site-packages (from requests<3,>=2.21.0->tensorboard<3,>=2.3.0->tensorflow==2.3.0) (1.26.12)\r\n",
      "Requirement already satisfied: idna<4,>=2.5 in /Users/tejaspatel/IdeaProjects/AI-class-practice/venv/lib/python3.8/site-packages (from requests<3,>=2.21.0->tensorboard<3,>=2.3.0->tensorflow==2.3.0) (3.4)\r\n",
      "Requirement already satisfied: certifi>=2017.4.17 in /Users/tejaspatel/IdeaProjects/AI-class-practice/venv/lib/python3.8/site-packages (from requests<3,>=2.21.0->tensorboard<3,>=2.3.0->tensorflow==2.3.0) (2022.9.24)\r\n",
      "Requirement already satisfied: MarkupSafe>=2.1.1 in /Users/tejaspatel/IdeaProjects/AI-class-practice/venv/lib/python3.8/site-packages (from werkzeug>=1.0.1->tensorboard<3,>=2.3.0->tensorflow==2.3.0) (2.1.1)\r\n",
      "Requirement already satisfied: zipp>=0.5 in /Users/tejaspatel/IdeaProjects/AI-class-practice/venv/lib/python3.8/site-packages (from importlib-metadata>=4.4->markdown>=2.6.8->tensorboard<3,>=2.3.0->tensorflow==2.3.0) (3.8.1)\r\n",
      "Requirement already satisfied: pyasn1<0.5.0,>=0.4.6 in /Users/tejaspatel/IdeaProjects/AI-class-practice/venv/lib/python3.8/site-packages (from pyasn1-modules>=0.2.1->google-auth<3,>=1.6.3->tensorboard<3,>=2.3.0->tensorflow==2.3.0) (0.4.8)\r\n",
      "Requirement already satisfied: oauthlib>=3.0.0 in /Users/tejaspatel/IdeaProjects/AI-class-practice/venv/lib/python3.8/site-packages (from requests-oauthlib>=0.7.0->google-auth-oauthlib<0.5,>=0.4.1->tensorboard<3,>=2.3.0->tensorflow==2.3.0) (3.2.1)\r\n",
      "\r\n",
      "\u001B[1m[\u001B[0m\u001B[34;49mnotice\u001B[0m\u001B[1;39;49m]\u001B[0m\u001B[39;49m A new release of pip available: \u001B[0m\u001B[31;49m22.2.2\u001B[0m\u001B[39;49m -> \u001B[0m\u001B[32;49m22.3\u001B[0m\r\n",
      "\u001B[1m[\u001B[0m\u001B[34;49mnotice\u001B[0m\u001B[1;39;49m]\u001B[0m\u001B[39;49m To update, run: \u001B[0m\u001B[32;49mpip install --upgrade pip\u001B[0m\r\n",
      "Requirement already satisfied: gym in /Users/tejaspatel/IdeaProjects/AI-class-practice/venv/lib/python3.8/site-packages (0.21.0)\r\n",
      "Requirement already satisfied: numpy>=1.18.0 in /Users/tejaspatel/IdeaProjects/AI-class-practice/venv/lib/python3.8/site-packages (from gym) (1.18.5)\r\n",
      "Requirement already satisfied: cloudpickle>=1.2.0 in /Users/tejaspatel/IdeaProjects/AI-class-practice/venv/lib/python3.8/site-packages (from gym) (2.2.0)\r\n",
      "\r\n",
      "\u001B[1m[\u001B[0m\u001B[34;49mnotice\u001B[0m\u001B[1;39;49m]\u001B[0m\u001B[39;49m A new release of pip available: \u001B[0m\u001B[31;49m22.2.2\u001B[0m\u001B[39;49m -> \u001B[0m\u001B[32;49m22.3\u001B[0m\r\n",
      "\u001B[1m[\u001B[0m\u001B[34;49mnotice\u001B[0m\u001B[1;39;49m]\u001B[0m\u001B[39;49m To update, run: \u001B[0m\u001B[32;49mpip install --upgrade pip\u001B[0m\r\n",
      "Requirement already satisfied: keras in /Users/tejaspatel/IdeaProjects/AI-class-practice/venv/lib/python3.8/site-packages (2.10.0)\r\n",
      "\r\n",
      "\u001B[1m[\u001B[0m\u001B[34;49mnotice\u001B[0m\u001B[1;39;49m]\u001B[0m\u001B[39;49m A new release of pip available: \u001B[0m\u001B[31;49m22.2.2\u001B[0m\u001B[39;49m -> \u001B[0m\u001B[32;49m22.3\u001B[0m\r\n",
      "\u001B[1m[\u001B[0m\u001B[34;49mnotice\u001B[0m\u001B[1;39;49m]\u001B[0m\u001B[39;49m To update, run: \u001B[0m\u001B[32;49mpip install --upgrade pip\u001B[0m\r\n",
      "Requirement already satisfied: keras-rl2 in /Users/tejaspatel/IdeaProjects/AI-class-practice/venv/lib/python3.8/site-packages (1.0.5)\r\n",
      "Requirement already satisfied: tensorflow in /Users/tejaspatel/IdeaProjects/AI-class-practice/venv/lib/python3.8/site-packages (from keras-rl2) (2.3.0)\r\n",
      "Requirement already satisfied: absl-py>=0.7.0 in /Users/tejaspatel/IdeaProjects/AI-class-practice/venv/lib/python3.8/site-packages (from tensorflow->keras-rl2) (1.2.0)\r\n",
      "Requirement already satisfied: tensorboard<3,>=2.3.0 in /Users/tejaspatel/IdeaProjects/AI-class-practice/venv/lib/python3.8/site-packages (from tensorflow->keras-rl2) (2.10.1)\r\n",
      "Requirement already satisfied: wheel>=0.26 in /Users/tejaspatel/IdeaProjects/AI-class-practice/venv/lib/python3.8/site-packages (from tensorflow->keras-rl2) (0.37.1)\r\n",
      "Requirement already satisfied: tensorflow-estimator<2.4.0,>=2.3.0 in /Users/tejaspatel/IdeaProjects/AI-class-practice/venv/lib/python3.8/site-packages (from tensorflow->keras-rl2) (2.3.0)\r\n",
      "Requirement already satisfied: keras-preprocessing<1.2,>=1.1.1 in /Users/tejaspatel/IdeaProjects/AI-class-practice/venv/lib/python3.8/site-packages (from tensorflow->keras-rl2) (1.1.2)\r\n",
      "Requirement already satisfied: wrapt>=1.11.1 in /Users/tejaspatel/IdeaProjects/AI-class-practice/venv/lib/python3.8/site-packages (from tensorflow->keras-rl2) (1.14.1)\r\n",
      "Requirement already satisfied: numpy<1.19.0,>=1.16.0 in /Users/tejaspatel/IdeaProjects/AI-class-practice/venv/lib/python3.8/site-packages (from tensorflow->keras-rl2) (1.18.5)\r\n",
      "Requirement already satisfied: scipy==1.4.1 in /Users/tejaspatel/IdeaProjects/AI-class-practice/venv/lib/python3.8/site-packages (from tensorflow->keras-rl2) (1.4.1)\r\n",
      "Requirement already satisfied: protobuf>=3.9.2 in /Users/tejaspatel/IdeaProjects/AI-class-practice/venv/lib/python3.8/site-packages (from tensorflow->keras-rl2) (3.19.5)\r\n",
      "Requirement already satisfied: h5py<2.11.0,>=2.10.0 in /Users/tejaspatel/IdeaProjects/AI-class-practice/venv/lib/python3.8/site-packages (from tensorflow->keras-rl2) (2.10.0)\r\n",
      "Requirement already satisfied: termcolor>=1.1.0 in /Users/tejaspatel/IdeaProjects/AI-class-practice/venv/lib/python3.8/site-packages (from tensorflow->keras-rl2) (2.0.1)\r\n",
      "Requirement already satisfied: gast==0.3.3 in /Users/tejaspatel/IdeaProjects/AI-class-practice/venv/lib/python3.8/site-packages (from tensorflow->keras-rl2) (0.3.3)\r\n",
      "Requirement already satisfied: astunparse==1.6.3 in /Users/tejaspatel/IdeaProjects/AI-class-practice/venv/lib/python3.8/site-packages (from tensorflow->keras-rl2) (1.6.3)\r\n",
      "Requirement already satisfied: six>=1.12.0 in /Users/tejaspatel/IdeaProjects/AI-class-practice/venv/lib/python3.8/site-packages (from tensorflow->keras-rl2) (1.16.0)\r\n",
      "Requirement already satisfied: opt-einsum>=2.3.2 in /Users/tejaspatel/IdeaProjects/AI-class-practice/venv/lib/python3.8/site-packages (from tensorflow->keras-rl2) (3.3.0)\r\n",
      "Requirement already satisfied: google-pasta>=0.1.8 in /Users/tejaspatel/IdeaProjects/AI-class-practice/venv/lib/python3.8/site-packages (from tensorflow->keras-rl2) (0.2.0)\r\n",
      "Requirement already satisfied: grpcio>=1.8.6 in /Users/tejaspatel/IdeaProjects/AI-class-practice/venv/lib/python3.8/site-packages (from tensorflow->keras-rl2) (1.49.1)\r\n",
      "Requirement already satisfied: google-auth-oauthlib<0.5,>=0.4.1 in /Users/tejaspatel/IdeaProjects/AI-class-practice/venv/lib/python3.8/site-packages (from tensorboard<3,>=2.3.0->tensorflow->keras-rl2) (0.4.6)\r\n",
      "Requirement already satisfied: google-auth<3,>=1.6.3 in /Users/tejaspatel/IdeaProjects/AI-class-practice/venv/lib/python3.8/site-packages (from tensorboard<3,>=2.3.0->tensorflow->keras-rl2) (2.12.0)\r\n",
      "Requirement already satisfied: setuptools>=41.0.0 in /Users/tejaspatel/IdeaProjects/AI-class-practice/venv/lib/python3.8/site-packages (from tensorboard<3,>=2.3.0->tensorflow->keras-rl2) (65.0.2)\r\n",
      "Requirement already satisfied: tensorboard-plugin-wit>=1.6.0 in /Users/tejaspatel/IdeaProjects/AI-class-practice/venv/lib/python3.8/site-packages (from tensorboard<3,>=2.3.0->tensorflow->keras-rl2) (1.8.1)\r\n",
      "Requirement already satisfied: markdown>=2.6.8 in /Users/tejaspatel/IdeaProjects/AI-class-practice/venv/lib/python3.8/site-packages (from tensorboard<3,>=2.3.0->tensorflow->keras-rl2) (3.4.1)\r\n",
      "Requirement already satisfied: requests<3,>=2.21.0 in /Users/tejaspatel/IdeaProjects/AI-class-practice/venv/lib/python3.8/site-packages (from tensorboard<3,>=2.3.0->tensorflow->keras-rl2) (2.28.1)\r\n",
      "Requirement already satisfied: tensorboard-data-server<0.7.0,>=0.6.0 in /Users/tejaspatel/IdeaProjects/AI-class-practice/venv/lib/python3.8/site-packages (from tensorboard<3,>=2.3.0->tensorflow->keras-rl2) (0.6.1)\r\n",
      "Requirement already satisfied: werkzeug>=1.0.1 in /Users/tejaspatel/IdeaProjects/AI-class-practice/venv/lib/python3.8/site-packages (from tensorboard<3,>=2.3.0->tensorflow->keras-rl2) (2.2.2)\r\n",
      "Requirement already satisfied: pyasn1-modules>=0.2.1 in /Users/tejaspatel/IdeaProjects/AI-class-practice/venv/lib/python3.8/site-packages (from google-auth<3,>=1.6.3->tensorboard<3,>=2.3.0->tensorflow->keras-rl2) (0.2.8)\r\n",
      "Requirement already satisfied: rsa<5,>=3.1.4 in /Users/tejaspatel/IdeaProjects/AI-class-practice/venv/lib/python3.8/site-packages (from google-auth<3,>=1.6.3->tensorboard<3,>=2.3.0->tensorflow->keras-rl2) (4.9)\r\n",
      "Requirement already satisfied: cachetools<6.0,>=2.0.0 in /Users/tejaspatel/IdeaProjects/AI-class-practice/venv/lib/python3.8/site-packages (from google-auth<3,>=1.6.3->tensorboard<3,>=2.3.0->tensorflow->keras-rl2) (5.2.0)\r\n",
      "Requirement already satisfied: requests-oauthlib>=0.7.0 in /Users/tejaspatel/IdeaProjects/AI-class-practice/venv/lib/python3.8/site-packages (from google-auth-oauthlib<0.5,>=0.4.1->tensorboard<3,>=2.3.0->tensorflow->keras-rl2) (1.3.1)\r\n",
      "Requirement already satisfied: importlib-metadata>=4.4 in /Users/tejaspatel/IdeaProjects/AI-class-practice/venv/lib/python3.8/site-packages (from markdown>=2.6.8->tensorboard<3,>=2.3.0->tensorflow->keras-rl2) (4.13.0)\r\n",
      "Requirement already satisfied: certifi>=2017.4.17 in /Users/tejaspatel/IdeaProjects/AI-class-practice/venv/lib/python3.8/site-packages (from requests<3,>=2.21.0->tensorboard<3,>=2.3.0->tensorflow->keras-rl2) (2022.9.24)\r\n",
      "Requirement already satisfied: charset-normalizer<3,>=2 in /Users/tejaspatel/IdeaProjects/AI-class-practice/venv/lib/python3.8/site-packages (from requests<3,>=2.21.0->tensorboard<3,>=2.3.0->tensorflow->keras-rl2) (2.1.1)\r\n",
      "Requirement already satisfied: urllib3<1.27,>=1.21.1 in /Users/tejaspatel/IdeaProjects/AI-class-practice/venv/lib/python3.8/site-packages (from requests<3,>=2.21.0->tensorboard<3,>=2.3.0->tensorflow->keras-rl2) (1.26.12)\r\n",
      "Requirement already satisfied: idna<4,>=2.5 in /Users/tejaspatel/IdeaProjects/AI-class-practice/venv/lib/python3.8/site-packages (from requests<3,>=2.21.0->tensorboard<3,>=2.3.0->tensorflow->keras-rl2) (3.4)\r\n",
      "Requirement already satisfied: MarkupSafe>=2.1.1 in /Users/tejaspatel/IdeaProjects/AI-class-practice/venv/lib/python3.8/site-packages (from werkzeug>=1.0.1->tensorboard<3,>=2.3.0->tensorflow->keras-rl2) (2.1.1)\r\n",
      "Requirement already satisfied: zipp>=0.5 in /Users/tejaspatel/IdeaProjects/AI-class-practice/venv/lib/python3.8/site-packages (from importlib-metadata>=4.4->markdown>=2.6.8->tensorboard<3,>=2.3.0->tensorflow->keras-rl2) (3.8.1)\r\n",
      "Requirement already satisfied: pyasn1<0.5.0,>=0.4.6 in /Users/tejaspatel/IdeaProjects/AI-class-practice/venv/lib/python3.8/site-packages (from pyasn1-modules>=0.2.1->google-auth<3,>=1.6.3->tensorboard<3,>=2.3.0->tensorflow->keras-rl2) (0.4.8)\r\n",
      "Requirement already satisfied: oauthlib>=3.0.0 in /Users/tejaspatel/IdeaProjects/AI-class-practice/venv/lib/python3.8/site-packages (from requests-oauthlib>=0.7.0->google-auth-oauthlib<0.5,>=0.4.1->tensorboard<3,>=2.3.0->tensorflow->keras-rl2) (3.2.1)\r\n",
      "\r\n",
      "\u001B[1m[\u001B[0m\u001B[34;49mnotice\u001B[0m\u001B[1;39;49m]\u001B[0m\u001B[39;49m A new release of pip available: \u001B[0m\u001B[31;49m22.2.2\u001B[0m\u001B[39;49m -> \u001B[0m\u001B[32;49m22.3\u001B[0m\r\n",
      "\u001B[1m[\u001B[0m\u001B[34;49mnotice\u001B[0m\u001B[1;39;49m]\u001B[0m\u001B[39;49m To update, run: \u001B[0m\u001B[32;49mpip install --upgrade pip\u001B[0m\r\n",
      "Requirement already satisfied: pygame in /Users/tejaspatel/IdeaProjects/AI-class-practice/venv/lib/python3.8/site-packages (2.1.2)\r\n",
      "\r\n",
      "\u001B[1m[\u001B[0m\u001B[34;49mnotice\u001B[0m\u001B[1;39;49m]\u001B[0m\u001B[39;49m A new release of pip available: \u001B[0m\u001B[31;49m22.2.2\u001B[0m\u001B[39;49m -> \u001B[0m\u001B[32;49m22.3\u001B[0m\r\n",
      "\u001B[1m[\u001B[0m\u001B[34;49mnotice\u001B[0m\u001B[1;39;49m]\u001B[0m\u001B[39;49m To update, run: \u001B[0m\u001B[32;49mpip install --upgrade pip\u001B[0m\r\n"
     ]
    }
   ],
   "source": [
    "!pip install tensorflow==2.3.0\n",
    "!pip install gym\n",
    "!pip install keras\n",
    "!pip install keras-rl2\n",
    "!pip install pygame"
   ],
   "metadata": {
    "collapsed": false,
    "pycharm": {
     "name": "#%%\n"
    }
   }
  },
  {
   "cell_type": "markdown",
   "source": [
    "#### Importing OpenAI gym and other dependencies and testing environments"
   ],
   "metadata": {
    "collapsed": false,
    "pycharm": {
     "name": "#%% md\n"
    }
   }
  },
  {
   "cell_type": "code",
   "execution_count": 13,
   "outputs": [],
   "source": [
    "import random\n",
    "import gym\n",
    "import os\n",
    "os.environ['SDL_VIDEODRIVER']='dummy'"
   ],
   "metadata": {
    "collapsed": false,
    "pycharm": {
     "name": "#%%\n"
    }
   }
  },
  {
   "cell_type": "markdown",
   "source": [
    "#### Declaring environment and creating states"
   ],
   "metadata": {
    "collapsed": false,
    "pycharm": {
     "name": "#%% md\n"
    }
   }
  },
  {
   "cell_type": "code",
   "execution_count": 4,
   "outputs": [
    {
     "ename": "NameError",
     "evalue": "name 'gym' is not defined",
     "output_type": "error",
     "traceback": [
      "\u001B[0;31m---------------------------------------------------------------------------\u001B[0m",
      "\u001B[0;31mNameError\u001B[0m                                 Traceback (most recent call last)",
      "Cell \u001B[0;32mIn [4], line 1\u001B[0m\n\u001B[0;32m----> 1\u001B[0m env \u001B[38;5;241m=\u001B[39m \u001B[43mgym\u001B[49m\u001B[38;5;241m.\u001B[39mmake(\u001B[38;5;124m\"\u001B[39m\u001B[38;5;124mCartPole-v0\u001B[39m\u001B[38;5;124m\"\u001B[39m)\n\u001B[1;32m      2\u001B[0m states \u001B[38;5;241m=\u001B[39m env\u001B[38;5;241m.\u001B[39mobservation_space\u001B[38;5;241m.\u001B[39mshape[\u001B[38;5;241m0\u001B[39m]\n\u001B[1;32m      3\u001B[0m \u001B[38;5;28mprint\u001B[39m(\u001B[38;5;124m\"\u001B[39m\u001B[38;5;124mnumber os states:\u001B[39m\u001B[38;5;124m\"\u001B[39m, states)\n",
      "\u001B[0;31mNameError\u001B[0m: name 'gym' is not defined"
     ]
    }
   ],
   "source": [
    "env = gym.make(\"CartPole-v0\")\n",
    "states = env.observation_space.shape[0]\n",
    "print(\"number os states:\", states)\n",
    "actions = env.action_space.n\n",
    "print(\"number os actions:\", actions)"
   ],
   "metadata": {
    "collapsed": false,
    "pycharm": {
     "name": "#%%\n"
    }
   }
  },
  {
   "cell_type": "markdown",
   "source": [
    "#### Creating Iteration with n episodes and passing the action"
   ],
   "metadata": {
    "collapsed": false,
    "pycharm": {
     "name": "#%% md\n"
    }
   }
  },
  {
   "cell_type": "code",
   "execution_count": 15,
   "outputs": [
    {
     "name": "stdout",
     "output_type": "stream",
     "text": [
      "Episode:1 Score:61.0\n",
      "Episode:2 Score:22.0\n",
      "Episode:3 Score:16.0\n",
      "Episode:4 Score:26.0\n",
      "Episode:5 Score:16.0\n",
      "Episode:6 Score:15.0\n",
      "Episode:7 Score:23.0\n",
      "Episode:8 Score:18.0\n",
      "Episode:9 Score:16.0\n",
      "Episode:10 Score:22.0\n",
      "Episode:11 Score:19.0\n",
      "Episode:12 Score:10.0\n"
     ]
    }
   ],
   "source": [
    "episodes = 3\n",
    "for episode in range(1, episodes+10):\n",
    "    state = env.reset()\n",
    "    done = False\n",
    "    score = 0\n",
    "    while not done:\n",
    "        env.render()\n",
    "        action = random.choice([0, 1])\n",
    "        n_state, reward, done, info = env.step(action)\n",
    "        score += reward\n",
    "    print(\"Episode:{} Score:{}\".format(episode, score))"
   ],
   "metadata": {
    "collapsed": false,
    "pycharm": {
     "name": "#%%\n"
    }
   }
  },
  {
   "cell_type": "markdown",
   "source": [
    "#### Modelling with Keras"
   ],
   "metadata": {
    "collapsed": false,
    "pycharm": {
     "name": "#%% md\n"
    }
   }
  },
  {
   "cell_type": "code",
   "execution_count": 1,
   "outputs": [],
   "source": [
    "import numpy as np\n",
    "from tensorflow.keras.models import Sequential\n",
    "from tensorflow.keras.layers import Dense, Flatten\n",
    "from tensorflow.keras.optimizers import Adam"
   ],
   "metadata": {
    "collapsed": false,
    "pycharm": {
     "name": "#%%\n"
    }
   }
  },
  {
   "cell_type": "code",
   "execution_count": 2,
   "outputs": [],
   "source": [
    "import tensorflow\n",
    "\n",
    "def build_model(states, actions):\n",
    "    model = Sequential()\n",
    "    model.add(Flatten(input_shape=(1, states)))\n",
    "    model.add(Dense(units=24, activation='relu' ))\n",
    "    model.add(Dense(units=24, activation='relu'))\n",
    "    model.add(Dense(units=actions, activation='linear'))\n",
    "    return model"
   ],
   "metadata": {
    "collapsed": false,
    "pycharm": {
     "name": "#%%\n"
    }
   }
  },
  {
   "cell_type": "code",
   "execution_count": 3,
   "outputs": [
    {
     "ename": "NameError",
     "evalue": "name 'states' is not defined",
     "output_type": "error",
     "traceback": [
      "\u001B[0;31m---------------------------------------------------------------------------\u001B[0m",
      "\u001B[0;31mNameError\u001B[0m                                 Traceback (most recent call last)",
      "Cell \u001B[0;32mIn [3], line 1\u001B[0m\n\u001B[0;32m----> 1\u001B[0m model \u001B[38;5;241m=\u001B[39m build_model(\u001B[43mstates\u001B[49m, actions)\n\u001B[1;32m      2\u001B[0m model\u001B[38;5;241m.\u001B[39msummary()\n",
      "\u001B[0;31mNameError\u001B[0m: name 'states' is not defined"
     ]
    }
   ],
   "source": [
    "model = build_model(states, actions)\n",
    "model.summary()"
   ],
   "metadata": {
    "collapsed": false,
    "pycharm": {
     "name": "#%%\n"
    }
   }
  },
  {
   "cell_type": "markdown",
   "source": [
    "#### Initialising Agent with Keras - Reinforced Learning"
   ],
   "metadata": {
    "collapsed": false,
    "pycharm": {
     "name": "#%% md\n"
    }
   }
  },
  {
   "cell_type": "code",
   "execution_count": 4,
   "outputs": [],
   "source": [
    "from rl.agents import DQNAgent\n",
    "from rl.policy import BoltzmannQPolicy\n",
    "from rl.memory import SequentialMemory"
   ],
   "metadata": {
    "collapsed": false,
    "pycharm": {
     "name": "#%%\n"
    }
   }
  },
  {
   "cell_type": "code",
   "execution_count": 7,
   "outputs": [],
   "source": [
    "def build_agent(model, actions):\n",
    "    policy = BoltzmannQPolicy()\n",
    "    memory = SequentialMemory(limit=50000, window_length=1)\n",
    "    dqn = DQNAgent(model=model, memory=memory, policy=policy,\n",
    "                   nb_actions=actions, nb_steps_warmup=10, target_model_update=1e-2)\n",
    "    return dqn"
   ],
   "metadata": {
    "collapsed": false,
    "pycharm": {
     "name": "#%%\n"
    }
   }
  },
  {
   "cell_type": "code",
   "execution_count": 8,
   "outputs": [
    {
     "ename": "NameError",
     "evalue": "name 'model' is not defined",
     "output_type": "error",
     "traceback": [
      "\u001B[0;31m---------------------------------------------------------------------------\u001B[0m",
      "\u001B[0;31mNameError\u001B[0m                                 Traceback (most recent call last)",
      "Cell \u001B[0;32mIn [8], line 1\u001B[0m\n\u001B[0;32m----> 1\u001B[0m dqn \u001B[38;5;241m=\u001B[39m build_agent(\u001B[43mmodel\u001B[49m, actions)\n\u001B[1;32m      2\u001B[0m dqn\u001B[38;5;241m.\u001B[39mcompile(Adam(lr\u001B[38;5;241m=\u001B[39m\u001B[38;5;241m1e-3\u001B[39m), metrics\u001B[38;5;241m=\u001B[39m[\u001B[38;5;124m'\u001B[39m\u001B[38;5;124mmae\u001B[39m\u001B[38;5;124m'\u001B[39m])\n\u001B[1;32m      3\u001B[0m dqn\u001B[38;5;241m.\u001B[39mfit(env, nb_steps\u001B[38;5;241m=\u001B[39m\u001B[38;5;241m5000\u001B[39m, visualize\u001B[38;5;241m=\u001B[39m\u001B[38;5;28;01mFalse\u001B[39;00m, verbose\u001B[38;5;241m=\u001B[39m\u001B[38;5;241m1\u001B[39m)\n",
      "\u001B[0;31mNameError\u001B[0m: name 'model' is not defined"
     ]
    }
   ],
   "source": [
    "dqn = build_agent(model, actions)\n",
    "dqn.compile(Adam(lr=1e-3), metrics=['mae'])\n",
    "dqn.fit(env, nb_steps=5000, visualize=False, verbose=1)"
   ],
   "metadata": {
    "collapsed": false,
    "pycharm": {
     "name": "#%%\n"
    }
   }
  },
  {
   "cell_type": "code",
   "execution_count": null,
   "outputs": [],
   "source": [
    "scores = dqn.test(env, nb_episodes=15, visualize=False)\n",
    "print(np.mean(scores.history['episode_reward']))"
   ],
   "metadata": {
    "collapsed": false,
    "pycharm": {
     "name": "#%%\n"
    }
   }
  },
  {
   "cell_type": "code",
   "execution_count": null,
   "outputs": [],
   "source": [
    "_ = dqn.test(env, nb_episodes=5, visualize=True)"
   ],
   "metadata": {
    "collapsed": false,
    "pycharm": {
     "name": "#%%\n"
    }
   }
  },
  {
   "cell_type": "markdown",
   "source": [
    "##### references\n",
    "##### 1. https://www.tensorflow.org/tutorials/reinforcement_learning/actor_critic\n",
    "##### 2. https://gsurma.medium.com/cartpole-introduction-to-reinforcement-learning-ed0eb5b58288\n",
    "##### 3. https://github.com/ChaithanyaVamshi/CartPole-DQN-Reinforcementlearning\n",
    "##### 4. https://github.com/alishafique3/CartPole-DQN-model-in-Google-Colab/blob/main/RL_Classical_Framework.ipynb\n",
    "##### 5. https://stackoverflow.com/questions/tagged/dqn"
   ],
   "metadata": {
    "collapsed": false,
    "pycharm": {
     "name": "#%% md\n"
    }
   }
  }
 ],
 "metadata": {
  "kernelspec": {
   "display_name": "Python 3",
   "language": "python",
   "name": "python3"
  },
  "language_info": {
   "codemirror_mode": {
    "name": "ipython",
    "version": 2
   },
   "file_extension": ".py",
   "mimetype": "text/x-python",
   "name": "python",
   "nbconvert_exporter": "python",
   "pygments_lexer": "ipython2",
   "version": "2.7.6"
  }
 },
 "nbformat": 4,
 "nbformat_minor": 0
}