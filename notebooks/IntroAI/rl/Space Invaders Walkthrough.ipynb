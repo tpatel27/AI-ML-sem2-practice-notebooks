{
 "cells": [
  {
   "cell_type": "markdown",
   "metadata": {
    "pycharm": {
     "name": "#%% md\n"
    }
   },
   "source": [
    "# 0. Install Dependencies"
   ]
  },
  {
   "cell_type": "code",
   "execution_count": 50,
   "metadata": {
    "collapsed": true,
    "pycharm": {
     "name": "#%%\n"
    }
   },
   "outputs": [
    {
     "name": "stdout",
     "output_type": "stream",
     "text": [
      "Requirement already satisfied: tensorflow==2.3.0 in /Users/tejaspatel/IdeaProjects/AI-class-practice/venv/lib/python3.8/site-packages (2.3.0)\r\n",
      "Requirement already satisfied: gast==0.3.3 in /Users/tejaspatel/IdeaProjects/AI-class-practice/venv/lib/python3.8/site-packages (from tensorflow==2.3.0) (0.3.3)\r\n",
      "Requirement already satisfied: tensorflow-estimator<2.4.0,>=2.3.0 in /Users/tejaspatel/IdeaProjects/AI-class-practice/venv/lib/python3.8/site-packages (from tensorflow==2.3.0) (2.3.0)\r\n",
      "Requirement already satisfied: termcolor>=1.1.0 in /Users/tejaspatel/IdeaProjects/AI-class-practice/venv/lib/python3.8/site-packages (from tensorflow==2.3.0) (2.0.1)\r\n",
      "Requirement already satisfied: wheel>=0.26 in /Users/tejaspatel/IdeaProjects/AI-class-practice/venv/lib/python3.8/site-packages (from tensorflow==2.3.0) (0.37.1)\r\n",
      "Requirement already satisfied: opt-einsum>=2.3.2 in /Users/tejaspatel/IdeaProjects/AI-class-practice/venv/lib/python3.8/site-packages (from tensorflow==2.3.0) (3.3.0)\r\n",
      "Requirement already satisfied: numpy<1.19.0,>=1.16.0 in /Users/tejaspatel/IdeaProjects/AI-class-practice/venv/lib/python3.8/site-packages (from tensorflow==2.3.0) (1.18.5)\r\n",
      "Requirement already satisfied: six>=1.12.0 in /Users/tejaspatel/IdeaProjects/AI-class-practice/venv/lib/python3.8/site-packages (from tensorflow==2.3.0) (1.16.0)\r\n",
      "Requirement already satisfied: keras-preprocessing<1.2,>=1.1.1 in /Users/tejaspatel/IdeaProjects/AI-class-practice/venv/lib/python3.8/site-packages (from tensorflow==2.3.0) (1.1.2)\r\n",
      "Requirement already satisfied: h5py<2.11.0,>=2.10.0 in /Users/tejaspatel/IdeaProjects/AI-class-practice/venv/lib/python3.8/site-packages (from tensorflow==2.3.0) (2.10.0)\r\n",
      "Requirement already satisfied: tensorboard<3,>=2.3.0 in /Users/tejaspatel/IdeaProjects/AI-class-practice/venv/lib/python3.8/site-packages (from tensorflow==2.3.0) (2.10.1)\r\n",
      "Requirement already satisfied: wrapt>=1.11.1 in /Users/tejaspatel/IdeaProjects/AI-class-practice/venv/lib/python3.8/site-packages (from tensorflow==2.3.0) (1.14.1)\r\n",
      "Requirement already satisfied: protobuf>=3.9.2 in /Users/tejaspatel/IdeaProjects/AI-class-practice/venv/lib/python3.8/site-packages (from tensorflow==2.3.0) (3.19.5)\r\n",
      "Requirement already satisfied: astunparse==1.6.3 in /Users/tejaspatel/IdeaProjects/AI-class-practice/venv/lib/python3.8/site-packages (from tensorflow==2.3.0) (1.6.3)\r\n",
      "Requirement already satisfied: grpcio>=1.8.6 in /Users/tejaspatel/IdeaProjects/AI-class-practice/venv/lib/python3.8/site-packages (from tensorflow==2.3.0) (1.49.1)\r\n",
      "Requirement already satisfied: google-pasta>=0.1.8 in /Users/tejaspatel/IdeaProjects/AI-class-practice/venv/lib/python3.8/site-packages (from tensorflow==2.3.0) (0.2.0)\r\n",
      "Requirement already satisfied: scipy==1.4.1 in /Users/tejaspatel/IdeaProjects/AI-class-practice/venv/lib/python3.8/site-packages (from tensorflow==2.3.0) (1.4.1)\r\n",
      "Requirement already satisfied: absl-py>=0.7.0 in /Users/tejaspatel/IdeaProjects/AI-class-practice/venv/lib/python3.8/site-packages (from tensorflow==2.3.0) (1.2.0)\r\n",
      "Requirement already satisfied: markdown>=2.6.8 in /Users/tejaspatel/IdeaProjects/AI-class-practice/venv/lib/python3.8/site-packages (from tensorboard<3,>=2.3.0->tensorflow==2.3.0) (3.4.1)\r\n",
      "Requirement already satisfied: requests<3,>=2.21.0 in /Users/tejaspatel/IdeaProjects/AI-class-practice/venv/lib/python3.8/site-packages (from tensorboard<3,>=2.3.0->tensorflow==2.3.0) (2.28.1)\r\n",
      "Requirement already satisfied: werkzeug>=1.0.1 in /Users/tejaspatel/IdeaProjects/AI-class-practice/venv/lib/python3.8/site-packages (from tensorboard<3,>=2.3.0->tensorflow==2.3.0) (2.2.2)\r\n",
      "Requirement already satisfied: google-auth<3,>=1.6.3 in /Users/tejaspatel/IdeaProjects/AI-class-practice/venv/lib/python3.8/site-packages (from tensorboard<3,>=2.3.0->tensorflow==2.3.0) (2.12.0)\r\n",
      "Requirement already satisfied: google-auth-oauthlib<0.5,>=0.4.1 in /Users/tejaspatel/IdeaProjects/AI-class-practice/venv/lib/python3.8/site-packages (from tensorboard<3,>=2.3.0->tensorflow==2.3.0) (0.4.6)\r\n",
      "Requirement already satisfied: setuptools>=41.0.0 in /Users/tejaspatel/IdeaProjects/AI-class-practice/venv/lib/python3.8/site-packages (from tensorboard<3,>=2.3.0->tensorflow==2.3.0) (65.0.2)\r\n",
      "Requirement already satisfied: tensorboard-plugin-wit>=1.6.0 in /Users/tejaspatel/IdeaProjects/AI-class-practice/venv/lib/python3.8/site-packages (from tensorboard<3,>=2.3.0->tensorflow==2.3.0) (1.8.1)\r\n",
      "Requirement already satisfied: tensorboard-data-server<0.7.0,>=0.6.0 in /Users/tejaspatel/IdeaProjects/AI-class-practice/venv/lib/python3.8/site-packages (from tensorboard<3,>=2.3.0->tensorflow==2.3.0) (0.6.1)\r\n",
      "Requirement already satisfied: cachetools<6.0,>=2.0.0 in /Users/tejaspatel/IdeaProjects/AI-class-practice/venv/lib/python3.8/site-packages (from google-auth<3,>=1.6.3->tensorboard<3,>=2.3.0->tensorflow==2.3.0) (5.2.0)\r\n",
      "Requirement already satisfied: pyasn1-modules>=0.2.1 in /Users/tejaspatel/IdeaProjects/AI-class-practice/venv/lib/python3.8/site-packages (from google-auth<3,>=1.6.3->tensorboard<3,>=2.3.0->tensorflow==2.3.0) (0.2.8)\r\n",
      "Requirement already satisfied: rsa<5,>=3.1.4 in /Users/tejaspatel/IdeaProjects/AI-class-practice/venv/lib/python3.8/site-packages (from google-auth<3,>=1.6.3->tensorboard<3,>=2.3.0->tensorflow==2.3.0) (4.9)\r\n",
      "Requirement already satisfied: requests-oauthlib>=0.7.0 in /Users/tejaspatel/IdeaProjects/AI-class-practice/venv/lib/python3.8/site-packages (from google-auth-oauthlib<0.5,>=0.4.1->tensorboard<3,>=2.3.0->tensorflow==2.3.0) (1.3.1)\r\n",
      "Requirement already satisfied: importlib-metadata>=4.4 in /Users/tejaspatel/IdeaProjects/AI-class-practice/venv/lib/python3.8/site-packages (from markdown>=2.6.8->tensorboard<3,>=2.3.0->tensorflow==2.3.0) (4.13.0)\r\n",
      "Requirement already satisfied: idna<4,>=2.5 in /Users/tejaspatel/IdeaProjects/AI-class-practice/venv/lib/python3.8/site-packages (from requests<3,>=2.21.0->tensorboard<3,>=2.3.0->tensorflow==2.3.0) (3.4)\r\n",
      "Requirement already satisfied: certifi>=2017.4.17 in /Users/tejaspatel/IdeaProjects/AI-class-practice/venv/lib/python3.8/site-packages (from requests<3,>=2.21.0->tensorboard<3,>=2.3.0->tensorflow==2.3.0) (2022.9.24)\r\n",
      "Requirement already satisfied: charset-normalizer<3,>=2 in /Users/tejaspatel/IdeaProjects/AI-class-practice/venv/lib/python3.8/site-packages (from requests<3,>=2.21.0->tensorboard<3,>=2.3.0->tensorflow==2.3.0) (2.1.1)\r\n",
      "Requirement already satisfied: urllib3<1.27,>=1.21.1 in /Users/tejaspatel/IdeaProjects/AI-class-practice/venv/lib/python3.8/site-packages (from requests<3,>=2.21.0->tensorboard<3,>=2.3.0->tensorflow==2.3.0) (1.26.12)\r\n",
      "Requirement already satisfied: MarkupSafe>=2.1.1 in /Users/tejaspatel/IdeaProjects/AI-class-practice/venv/lib/python3.8/site-packages (from werkzeug>=1.0.1->tensorboard<3,>=2.3.0->tensorflow==2.3.0) (2.1.1)\r\n",
      "Requirement already satisfied: zipp>=0.5 in /Users/tejaspatel/IdeaProjects/AI-class-practice/venv/lib/python3.8/site-packages (from importlib-metadata>=4.4->markdown>=2.6.8->tensorboard<3,>=2.3.0->tensorflow==2.3.0) (3.8.1)\r\n",
      "Requirement already satisfied: pyasn1<0.5.0,>=0.4.6 in /Users/tejaspatel/IdeaProjects/AI-class-practice/venv/lib/python3.8/site-packages (from pyasn1-modules>=0.2.1->google-auth<3,>=1.6.3->tensorboard<3,>=2.3.0->tensorflow==2.3.0) (0.4.8)\r\n",
      "Requirement already satisfied: oauthlib>=3.0.0 in /Users/tejaspatel/IdeaProjects/AI-class-practice/venv/lib/python3.8/site-packages (from requests-oauthlib>=0.7.0->google-auth-oauthlib<0.5,>=0.4.1->tensorboard<3,>=2.3.0->tensorflow==2.3.0) (3.2.1)\r\n",
      "\r\n",
      "\u001B[1m[\u001B[0m\u001B[34;49mnotice\u001B[0m\u001B[1;39;49m]\u001B[0m\u001B[39;49m A new release of pip available: \u001B[0m\u001B[31;49m22.2.2\u001B[0m\u001B[39;49m -> \u001B[0m\u001B[32;49m22.3\u001B[0m\r\n",
      "\u001B[1m[\u001B[0m\u001B[34;49mnotice\u001B[0m\u001B[1;39;49m]\u001B[0m\u001B[39;49m To update, run: \u001B[0m\u001B[32;49mpip install --upgrade pip\u001B[0m\r\n",
      "Requirement already satisfied: gym in /Users/tejaspatel/IdeaProjects/AI-class-practice/venv/lib/python3.8/site-packages (0.21.0)\r\n",
      "Requirement already satisfied: numpy>=1.18.0 in /Users/tejaspatel/IdeaProjects/AI-class-practice/venv/lib/python3.8/site-packages (from gym) (1.18.5)\r\n",
      "Requirement already satisfied: cloudpickle>=1.2.0 in /Users/tejaspatel/IdeaProjects/AI-class-practice/venv/lib/python3.8/site-packages (from gym) (2.2.0)\r\n",
      "\r\n",
      "\u001B[1m[\u001B[0m\u001B[34;49mnotice\u001B[0m\u001B[1;39;49m]\u001B[0m\u001B[39;49m A new release of pip available: \u001B[0m\u001B[31;49m22.2.2\u001B[0m\u001B[39;49m -> \u001B[0m\u001B[32;49m22.3\u001B[0m\r\n",
      "\u001B[1m[\u001B[0m\u001B[34;49mnotice\u001B[0m\u001B[1;39;49m]\u001B[0m\u001B[39;49m To update, run: \u001B[0m\u001B[32;49mpip install --upgrade pip\u001B[0m\r\n",
      "Requirement already satisfied: keras in /Users/tejaspatel/IdeaProjects/AI-class-practice/venv/lib/python3.8/site-packages (2.10.0)\r\n",
      "\r\n",
      "\u001B[1m[\u001B[0m\u001B[34;49mnotice\u001B[0m\u001B[1;39;49m]\u001B[0m\u001B[39;49m A new release of pip available: \u001B[0m\u001B[31;49m22.2.2\u001B[0m\u001B[39;49m -> \u001B[0m\u001B[32;49m22.3\u001B[0m\r\n",
      "\u001B[1m[\u001B[0m\u001B[34;49mnotice\u001B[0m\u001B[1;39;49m]\u001B[0m\u001B[39;49m To update, run: \u001B[0m\u001B[32;49mpip install --upgrade pip\u001B[0m\r\n",
      "Requirement already satisfied: keras-rl2 in /Users/tejaspatel/IdeaProjects/AI-class-practice/venv/lib/python3.8/site-packages (1.0.5)\r\n",
      "Requirement already satisfied: tensorflow in /Users/tejaspatel/IdeaProjects/AI-class-practice/venv/lib/python3.8/site-packages (from keras-rl2) (2.3.0)\r\n",
      "Requirement already satisfied: grpcio>=1.8.6 in /Users/tejaspatel/IdeaProjects/AI-class-practice/venv/lib/python3.8/site-packages (from tensorflow->keras-rl2) (1.49.1)\r\n",
      "Requirement already satisfied: gast==0.3.3 in /Users/tejaspatel/IdeaProjects/AI-class-practice/venv/lib/python3.8/site-packages (from tensorflow->keras-rl2) (0.3.3)\r\n",
      "Requirement already satisfied: wheel>=0.26 in /Users/tejaspatel/IdeaProjects/AI-class-practice/venv/lib/python3.8/site-packages (from tensorflow->keras-rl2) (0.37.1)\r\n",
      "Requirement already satisfied: numpy<1.19.0,>=1.16.0 in /Users/tejaspatel/IdeaProjects/AI-class-practice/venv/lib/python3.8/site-packages (from tensorflow->keras-rl2) (1.18.5)\r\n",
      "Requirement already satisfied: google-pasta>=0.1.8 in /Users/tejaspatel/IdeaProjects/AI-class-practice/venv/lib/python3.8/site-packages (from tensorflow->keras-rl2) (0.2.0)\r\n",
      "Requirement already satisfied: h5py<2.11.0,>=2.10.0 in /Users/tejaspatel/IdeaProjects/AI-class-practice/venv/lib/python3.8/site-packages (from tensorflow->keras-rl2) (2.10.0)\r\n",
      "Requirement already satisfied: protobuf>=3.9.2 in /Users/tejaspatel/IdeaProjects/AI-class-practice/venv/lib/python3.8/site-packages (from tensorflow->keras-rl2) (3.19.5)\r\n",
      "Requirement already satisfied: tensorflow-estimator<2.4.0,>=2.3.0 in /Users/tejaspatel/IdeaProjects/AI-class-practice/venv/lib/python3.8/site-packages (from tensorflow->keras-rl2) (2.3.0)\r\n",
      "Requirement already satisfied: termcolor>=1.1.0 in /Users/tejaspatel/IdeaProjects/AI-class-practice/venv/lib/python3.8/site-packages (from tensorflow->keras-rl2) (2.0.1)\r\n",
      "Requirement already satisfied: wrapt>=1.11.1 in /Users/tejaspatel/IdeaProjects/AI-class-practice/venv/lib/python3.8/site-packages (from tensorflow->keras-rl2) (1.14.1)\r\n",
      "Requirement already satisfied: absl-py>=0.7.0 in /Users/tejaspatel/IdeaProjects/AI-class-practice/venv/lib/python3.8/site-packages (from tensorflow->keras-rl2) (1.2.0)\r\n",
      "Requirement already satisfied: tensorboard<3,>=2.3.0 in /Users/tejaspatel/IdeaProjects/AI-class-practice/venv/lib/python3.8/site-packages (from tensorflow->keras-rl2) (2.10.1)\r\n",
      "Requirement already satisfied: astunparse==1.6.3 in /Users/tejaspatel/IdeaProjects/AI-class-practice/venv/lib/python3.8/site-packages (from tensorflow->keras-rl2) (1.6.3)\r\n",
      "Requirement already satisfied: six>=1.12.0 in /Users/tejaspatel/IdeaProjects/AI-class-practice/venv/lib/python3.8/site-packages (from tensorflow->keras-rl2) (1.16.0)\r\n",
      "Requirement already satisfied: opt-einsum>=2.3.2 in /Users/tejaspatel/IdeaProjects/AI-class-practice/venv/lib/python3.8/site-packages (from tensorflow->keras-rl2) (3.3.0)\r\n",
      "Requirement already satisfied: keras-preprocessing<1.2,>=1.1.1 in /Users/tejaspatel/IdeaProjects/AI-class-practice/venv/lib/python3.8/site-packages (from tensorflow->keras-rl2) (1.1.2)\r\n",
      "Requirement already satisfied: scipy==1.4.1 in /Users/tejaspatel/IdeaProjects/AI-class-practice/venv/lib/python3.8/site-packages (from tensorflow->keras-rl2) (1.4.1)\r\n",
      "Requirement already satisfied: tensorboard-data-server<0.7.0,>=0.6.0 in /Users/tejaspatel/IdeaProjects/AI-class-practice/venv/lib/python3.8/site-packages (from tensorboard<3,>=2.3.0->tensorflow->keras-rl2) (0.6.1)\r\n",
      "Requirement already satisfied: werkzeug>=1.0.1 in /Users/tejaspatel/IdeaProjects/AI-class-practice/venv/lib/python3.8/site-packages (from tensorboard<3,>=2.3.0->tensorflow->keras-rl2) (2.2.2)\r\n",
      "Requirement already satisfied: setuptools>=41.0.0 in /Users/tejaspatel/IdeaProjects/AI-class-practice/venv/lib/python3.8/site-packages (from tensorboard<3,>=2.3.0->tensorflow->keras-rl2) (65.0.2)\r\n",
      "Requirement already satisfied: tensorboard-plugin-wit>=1.6.0 in /Users/tejaspatel/IdeaProjects/AI-class-practice/venv/lib/python3.8/site-packages (from tensorboard<3,>=2.3.0->tensorflow->keras-rl2) (1.8.1)\r\n",
      "Requirement already satisfied: markdown>=2.6.8 in /Users/tejaspatel/IdeaProjects/AI-class-practice/venv/lib/python3.8/site-packages (from tensorboard<3,>=2.3.0->tensorflow->keras-rl2) (3.4.1)\r\n",
      "Requirement already satisfied: google-auth-oauthlib<0.5,>=0.4.1 in /Users/tejaspatel/IdeaProjects/AI-class-practice/venv/lib/python3.8/site-packages (from tensorboard<3,>=2.3.0->tensorflow->keras-rl2) (0.4.6)\r\n",
      "Requirement already satisfied: google-auth<3,>=1.6.3 in /Users/tejaspatel/IdeaProjects/AI-class-practice/venv/lib/python3.8/site-packages (from tensorboard<3,>=2.3.0->tensorflow->keras-rl2) (2.12.0)\r\n",
      "Requirement already satisfied: requests<3,>=2.21.0 in /Users/tejaspatel/IdeaProjects/AI-class-practice/venv/lib/python3.8/site-packages (from tensorboard<3,>=2.3.0->tensorflow->keras-rl2) (2.28.1)\r\n",
      "Requirement already satisfied: pyasn1-modules>=0.2.1 in /Users/tejaspatel/IdeaProjects/AI-class-practice/venv/lib/python3.8/site-packages (from google-auth<3,>=1.6.3->tensorboard<3,>=2.3.0->tensorflow->keras-rl2) (0.2.8)\r\n",
      "Requirement already satisfied: rsa<5,>=3.1.4 in /Users/tejaspatel/IdeaProjects/AI-class-practice/venv/lib/python3.8/site-packages (from google-auth<3,>=1.6.3->tensorboard<3,>=2.3.0->tensorflow->keras-rl2) (4.9)\r\n",
      "Requirement already satisfied: cachetools<6.0,>=2.0.0 in /Users/tejaspatel/IdeaProjects/AI-class-practice/venv/lib/python3.8/site-packages (from google-auth<3,>=1.6.3->tensorboard<3,>=2.3.0->tensorflow->keras-rl2) (5.2.0)\r\n",
      "Requirement already satisfied: requests-oauthlib>=0.7.0 in /Users/tejaspatel/IdeaProjects/AI-class-practice/venv/lib/python3.8/site-packages (from google-auth-oauthlib<0.5,>=0.4.1->tensorboard<3,>=2.3.0->tensorflow->keras-rl2) (1.3.1)\r\n",
      "Requirement already satisfied: importlib-metadata>=4.4 in /Users/tejaspatel/IdeaProjects/AI-class-practice/venv/lib/python3.8/site-packages (from markdown>=2.6.8->tensorboard<3,>=2.3.0->tensorflow->keras-rl2) (4.13.0)\r\n",
      "Requirement already satisfied: certifi>=2017.4.17 in /Users/tejaspatel/IdeaProjects/AI-class-practice/venv/lib/python3.8/site-packages (from requests<3,>=2.21.0->tensorboard<3,>=2.3.0->tensorflow->keras-rl2) (2022.9.24)\r\n",
      "Requirement already satisfied: urllib3<1.27,>=1.21.1 in /Users/tejaspatel/IdeaProjects/AI-class-practice/venv/lib/python3.8/site-packages (from requests<3,>=2.21.0->tensorboard<3,>=2.3.0->tensorflow->keras-rl2) (1.26.12)\r\n",
      "Requirement already satisfied: charset-normalizer<3,>=2 in /Users/tejaspatel/IdeaProjects/AI-class-practice/venv/lib/python3.8/site-packages (from requests<3,>=2.21.0->tensorboard<3,>=2.3.0->tensorflow->keras-rl2) (2.1.1)\r\n",
      "Requirement already satisfied: idna<4,>=2.5 in /Users/tejaspatel/IdeaProjects/AI-class-practice/venv/lib/python3.8/site-packages (from requests<3,>=2.21.0->tensorboard<3,>=2.3.0->tensorflow->keras-rl2) (3.4)\r\n",
      "Requirement already satisfied: MarkupSafe>=2.1.1 in /Users/tejaspatel/IdeaProjects/AI-class-practice/venv/lib/python3.8/site-packages (from werkzeug>=1.0.1->tensorboard<3,>=2.3.0->tensorflow->keras-rl2) (2.1.1)\r\n",
      "Requirement already satisfied: zipp>=0.5 in /Users/tejaspatel/IdeaProjects/AI-class-practice/venv/lib/python3.8/site-packages (from importlib-metadata>=4.4->markdown>=2.6.8->tensorboard<3,>=2.3.0->tensorflow->keras-rl2) (3.8.1)\r\n",
      "Requirement already satisfied: pyasn1<0.5.0,>=0.4.6 in /Users/tejaspatel/IdeaProjects/AI-class-practice/venv/lib/python3.8/site-packages (from pyasn1-modules>=0.2.1->google-auth<3,>=1.6.3->tensorboard<3,>=2.3.0->tensorflow->keras-rl2) (0.4.8)\r\n",
      "Requirement already satisfied: oauthlib>=3.0.0 in /Users/tejaspatel/IdeaProjects/AI-class-practice/venv/lib/python3.8/site-packages (from requests-oauthlib>=0.7.0->google-auth-oauthlib<0.5,>=0.4.1->tensorboard<3,>=2.3.0->tensorflow->keras-rl2) (3.2.1)\r\n",
      "\r\n",
      "\u001B[1m[\u001B[0m\u001B[34;49mnotice\u001B[0m\u001B[1;39;49m]\u001B[0m\u001B[39;49m A new release of pip available: \u001B[0m\u001B[31;49m22.2.2\u001B[0m\u001B[39;49m -> \u001B[0m\u001B[32;49m22.3\u001B[0m\r\n",
      "\u001B[1m[\u001B[0m\u001B[34;49mnotice\u001B[0m\u001B[1;39;49m]\u001B[0m\u001B[39;49m To update, run: \u001B[0m\u001B[32;49mpip install --upgrade pip\u001B[0m\r\n",
      "Requirement already satisfied: pygame in /Users/tejaspatel/IdeaProjects/AI-class-practice/venv/lib/python3.8/site-packages (2.1.2)\r\n",
      "\r\n",
      "\u001B[1m[\u001B[0m\u001B[34;49mnotice\u001B[0m\u001B[1;39;49m]\u001B[0m\u001B[39;49m A new release of pip available: \u001B[0m\u001B[31;49m22.2.2\u001B[0m\u001B[39;49m -> \u001B[0m\u001B[32;49m22.3\u001B[0m\r\n",
      "\u001B[1m[\u001B[0m\u001B[34;49mnotice\u001B[0m\u001B[1;39;49m]\u001B[0m\u001B[39;49m To update, run: \u001B[0m\u001B[32;49mpip install --upgrade pip\u001B[0m\r\n"
     ]
    }
   ],
   "source": [
    "# !pip install tensorflow gym keras-rl2 'gym[atari,accept-rom-license]'\n",
    "!pip install tensorflow==2.3.0\n",
    "!pip install gym\n",
    "!pip install keras\n",
    "!pip install keras-rl2\n",
    "!pip install pygame"
   ]
  },
  {
   "cell_type": "markdown",
   "metadata": {
    "pycharm": {
     "name": "#%% md\n"
    }
   },
   "source": [
    "# 1. Test Random Environment with OpenAI Gym"
   ]
  },
  {
   "cell_type": "code",
   "execution_count": 51,
   "metadata": {
    "pycharm": {
     "name": "#%%\n"
    }
   },
   "outputs": [
    {
     "name": "stdout",
     "output_type": "stream",
     "text": [
      "Episode:1 Score:35.0\n"
     ]
    }
   ],
   "source": [
    "import gym\n",
    "import time\n",
    "import random\n",
    "env = gym.make('SpaceInvaders-v0', render_mode = 'rgb_array')\n",
    "height, width, channels = env.observation_space.shape\n",
    "actions = env.action_space.n\n",
    "episodes = 1\n",
    "for episode in range(1, episodes+1):\n",
    "    state = env.reset()\n",
    "    done = False\n",
    "    score = 0     \n",
    "    while not done:        \n",
    "        action = random.choice([0,1,2,3,4,5])\n",
    "        state, reward, done, info = env.step(action)\n",
    "        score+=reward\n",
    "    print('Episode:{} Score:{}'.format(episode, score))\n",
    "    if done:\n",
    "        observation = env.reset()\n",
    "env.close()"
   ]
  },
  {
   "cell_type": "markdown",
   "metadata": {
    "pycharm": {
     "name": "#%% md\n"
    }
   },
   "source": [
    "# 2. Create a Deep Learning Model with Keras"
   ]
  },
  {
   "cell_type": "code",
   "execution_count": 52,
   "metadata": {
    "pycharm": {
     "name": "#%%\n"
    }
   },
   "outputs": [],
   "source": [
    "import numpy as np\n",
    "from tensorflow.keras.models import Sequential\n",
    "from tensorflow.keras.layers import Dense, Flatten, Convolution2D\n",
    "from tensorflow.keras.optimizers import Adam\n"
   ]
  },
  {
   "cell_type": "code",
   "execution_count": 53,
   "metadata": {
    "pycharm": {
     "name": "#%%\n"
    }
   },
   "outputs": [],
   "source": [
    "def build_model(height, width, channels, actions):\n",
    "    model = Sequential()\n",
    "    model.add(Convolution2D(32, (8,8), strides=(4,4), activation='relu', input_shape=(3,height, width, channels)))\n",
    "    model.add(Convolution2D(64, (4,4), strides=(2,2), activation='relu'))\n",
    "    model.add(Convolution2D(64, (3,3), activation='relu'))\n",
    "    model.add(Flatten())\n",
    "    model.add(Dense(512, activation='relu'))\n",
    "    model.add(Dense(256, activation='relu'))\n",
    "    model.add(Dense(actions, activation='linear'))\n",
    "    return model"
   ]
  },
  {
   "cell_type": "code",
   "execution_count": 54,
   "metadata": {
    "pycharm": {
     "name": "#%%\n"
    }
   },
   "outputs": [],
   "source": [
    "model = build_model(height, width, channels, actions)"
   ]
  },
  {
   "cell_type": "code",
   "execution_count": 55,
   "metadata": {
    "pycharm": {
     "name": "#%%\n"
    }
   },
   "outputs": [
    {
     "name": "stdout",
     "output_type": "stream",
     "text": [
      "Model: \"sequential_3\"\n",
      "_________________________________________________________________\n",
      "Layer (type)                 Output Shape              Param #   \n",
      "=================================================================\n",
      "conv2d_9 (Conv2D)            (None, 3, 51, 39, 32)     6176      \n",
      "_________________________________________________________________\n",
      "conv2d_10 (Conv2D)           (None, 3, 24, 18, 64)     32832     \n",
      "_________________________________________________________________\n",
      "conv2d_11 (Conv2D)           (None, 3, 22, 16, 64)     36928     \n",
      "_________________________________________________________________\n",
      "flatten_3 (Flatten)          (None, 67584)             0         \n",
      "_________________________________________________________________\n",
      "dense_25 (Dense)             (None, 512)               34603520  \n",
      "_________________________________________________________________\n",
      "dense_26 (Dense)             (None, 256)               131328    \n",
      "_________________________________________________________________\n",
      "dense_27 (Dense)             (None, 6)                 1542      \n",
      "=================================================================\n",
      "Total params: 34,812,326\n",
      "Trainable params: 34,812,326\n",
      "Non-trainable params: 0\n",
      "_________________________________________________________________\n"
     ]
    }
   ],
   "source": [
    "model.summary()"
   ]
  },
  {
   "cell_type": "markdown",
   "metadata": {
    "pycharm": {
     "name": "#%% md\n"
    }
   },
   "source": [
    "# 3. Build Agent with Keras-RL"
   ]
  },
  {
   "cell_type": "code",
   "execution_count": 56,
   "metadata": {
    "pycharm": {
     "name": "#%%\n"
    }
   },
   "outputs": [],
   "source": [
    "from rl.agents import DQNAgent\n",
    "from rl.memory import SequentialMemory\n",
    "from rl.policy import LinearAnnealedPolicy, EpsGreedyQPolicy"
   ]
  },
  {
   "cell_type": "code",
   "execution_count": 57,
   "metadata": {
    "pycharm": {
     "name": "#%%\n"
    }
   },
   "outputs": [],
   "source": [
    "def build_agent(model, actions):\n",
    "    policy = LinearAnnealedPolicy(EpsGreedyQPolicy(), attr='eps', value_max=1., value_min=.1, value_test=.2, nb_steps=10)\n",
    "    memory = SequentialMemory(limit=1, window_length=3)\n",
    "    dqn = DQNAgent(model=model, memory=memory, policy=policy,\n",
    "                  enable_dueling_network=True, dueling_type='avg', \n",
    "                   nb_actions=actions, nb_steps_warmup=1)\n",
    "    return dqn"
   ]
  },
  {
   "cell_type": "code",
   "execution_count": 59,
   "metadata": {
    "pycharm": {
     "name": "#%%\n"
    }
   },
   "outputs": [
    {
     "name": "stdout",
     "output_type": "stream",
     "text": [
      "Training for 1000 steps ...\n"
     ]
    },
    {
     "ename": "ValueError",
     "evalue": "The truth value of an array with more than one element is ambiguous. Use a.any() or a.all()",
     "output_type": "error",
     "traceback": [
      "\u001B[0;31m---------------------------------------------------------------------------\u001B[0m",
      "\u001B[0;31mValueError\u001B[0m                                Traceback (most recent call last)",
      "Cell \u001B[0;32mIn [59], line 3\u001B[0m\n\u001B[1;32m      1\u001B[0m dqn \u001B[38;5;241m=\u001B[39m build_agent(model, actions)\n\u001B[1;32m      2\u001B[0m dqn\u001B[38;5;241m.\u001B[39mcompile(Adam(lr\u001B[38;5;241m=\u001B[39m\u001B[38;5;241m1e-3\u001B[39m))\n\u001B[0;32m----> 3\u001B[0m \u001B[43mdqn\u001B[49m\u001B[38;5;241;43m.\u001B[39;49m\u001B[43mfit\u001B[49m\u001B[43m(\u001B[49m\u001B[43menv\u001B[49m\u001B[43m,\u001B[49m\u001B[43m \u001B[49m\u001B[43mnb_steps\u001B[49m\u001B[38;5;241;43m=\u001B[39;49m\u001B[38;5;241;43m1000\u001B[39;49m\u001B[43m,\u001B[49m\u001B[43m \u001B[49m\u001B[43mvisualize\u001B[49m\u001B[38;5;241;43m=\u001B[39;49m\u001B[38;5;28;43;01mFalse\u001B[39;49;00m\u001B[43m,\u001B[49m\u001B[43m \u001B[49m\u001B[43mverbose\u001B[49m\u001B[38;5;241;43m=\u001B[39;49m\u001B[38;5;241;43m2\u001B[39;49m\u001B[43m)\u001B[49m\n",
      "File \u001B[0;32m~/IdeaProjects/AI-class-practice/venv/lib/python3.8/site-packages/rl/core.py:181\u001B[0m, in \u001B[0;36mAgent.fit\u001B[0;34m(self, env, nb_steps, action_repetition, callbacks, verbose, visualize, nb_max_start_steps, start_step_policy, log_interval, nb_max_episode_steps)\u001B[0m\n\u001B[1;32m    179\u001B[0m     observation, r, done, info \u001B[38;5;241m=\u001B[39m \u001B[38;5;28mself\u001B[39m\u001B[38;5;241m.\u001B[39mprocessor\u001B[38;5;241m.\u001B[39mprocess_step(observation, r, done, info)\n\u001B[1;32m    180\u001B[0m \u001B[38;5;28;01mfor\u001B[39;00m key, value \u001B[38;5;129;01min\u001B[39;00m info\u001B[38;5;241m.\u001B[39mitems():\n\u001B[0;32m--> 181\u001B[0m     \u001B[38;5;28;01mif\u001B[39;00m \u001B[38;5;129;01mnot\u001B[39;00m np\u001B[38;5;241m.\u001B[39misreal(value):\n\u001B[1;32m    182\u001B[0m         \u001B[38;5;28;01mcontinue\u001B[39;00m\n\u001B[1;32m    183\u001B[0m     \u001B[38;5;28;01mif\u001B[39;00m key \u001B[38;5;129;01mnot\u001B[39;00m \u001B[38;5;129;01min\u001B[39;00m accumulated_info:\n",
      "\u001B[0;31mValueError\u001B[0m: The truth value of an array with more than one element is ambiguous. Use a.any() or a.all()"
     ]
    }
   ],
   "source": [
    "dqn = build_agent(model, actions)\n",
    "dqn.compile(Adam(lr=1e-3))\n",
    "dqn.fit(env, nb_steps=1000, visualize=False, verbose=2)"
   ]
  },
  {
   "cell_type": "code",
   "execution_count": null,
   "metadata": {
    "pycharm": {
     "name": "#%%\n"
    }
   },
   "outputs": [],
   "source": [
    "# dqn.fit(env, nb_steps=10, visualize=False, verbose=2)"
   ]
  },
  {
   "cell_type": "code",
   "execution_count": null,
   "metadata": {
    "pycharm": {
     "name": "#%%\n"
    }
   },
   "outputs": [],
   "source": [
    "dqn = build_agent(model, actions)\n",
    "scores = dqn.test(env, nb_episodes=10, visualize=True)\n",
    "print(np.mean(scores.history['episode_reward']))"
   ]
  },
  {
   "cell_type": "code",
   "execution_count": null,
   "metadata": {
    "pycharm": {
     "name": "#%%\n"
    }
   },
   "outputs": [],
   "source": []
  },
  {
   "cell_type": "code",
   "execution_count": null,
   "metadata": {
    "pycharm": {
     "name": "#%%\n"
    }
   },
   "outputs": [],
   "source": []
  },
  {
   "cell_type": "markdown",
   "metadata": {
    "pycharm": {
     "name": "#%% md\n"
    }
   },
   "source": [
    "# 4. Reloading Agent from Memory"
   ]
  },
  {
   "cell_type": "code",
   "execution_count": null,
   "metadata": {
    "pycharm": {
     "name": "#%%\n"
    }
   },
   "outputs": [],
   "source": [
    "dqn.save_weights('SavedWeights/10k-Fast/dqn_weights.h5f')"
   ]
  },
  {
   "cell_type": "code",
   "execution_count": null,
   "metadata": {
    "pycharm": {
     "name": "#%%\n"
    }
   },
   "outputs": [],
   "source": [
    "del model, dqn"
   ]
  },
  {
   "cell_type": "code",
   "execution_count": null,
   "metadata": {
    "pycharm": {
     "name": "#%%\n"
    }
   },
   "outputs": [],
   "source": [
    "dqn.load_weights('SavedWeights/1m/dqn_weights.h5f')"
   ]
  },
  {
   "cell_type": "code",
   "execution_count": null,
   "metadata": {
    "pycharm": {
     "name": "#%%\n"
    }
   },
   "outputs": [],
   "source": []
  }
 ],
 "metadata": {
  "kernelspec": {
   "display_name": "Python 3 (ipykernel)",
   "language": "python",
   "name": "python3"
  },
  "language_info": {
   "codemirror_mode": {
    "name": "ipython",
    "version": 3
   },
   "file_extension": ".py",
   "mimetype": "text/x-python",
   "name": "python",
   "nbconvert_exporter": "python",
   "pygments_lexer": "ipython3",
   "version": "3.9.7"
  },
  "vscode": {
   "interpreter": {
    "hash": "0d591c6e422414675974e227c13f5382000c440fedd3c5006ef2be5d887f0ba7"
   }
  }
 },
 "nbformat": 4,
 "nbformat_minor": 2
}