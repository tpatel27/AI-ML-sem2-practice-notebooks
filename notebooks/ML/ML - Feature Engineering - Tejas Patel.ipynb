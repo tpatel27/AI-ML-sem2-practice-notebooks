{
 "cells": [
  {
   "cell_type": "code",
   "execution_count": 1,
   "metadata": {},
   "outputs": [],
   "source": [
    "import pandas as pd\n",
    "from datetime import date"
   ]
  },
  {
   "cell_type": "code",
   "execution_count": 6,
   "metadata": {},
   "outputs": [
    {
     "data": {
      "text/plain": "         date\n0  01-10-1917\n1  27-09-1818\n2  07-07-2007\n3  27-07-1779\n4  20-09-1927",
      "text/html": "<div>\n<style scoped>\n    .dataframe tbody tr th:only-of-type {\n        vertical-align: middle;\n    }\n\n    .dataframe tbody tr th {\n        vertical-align: top;\n    }\n\n    .dataframe thead th {\n        text-align: right;\n    }\n</style>\n<table border=\"1\" class=\"dataframe\">\n  <thead>\n    <tr style=\"text-align: right;\">\n      <th></th>\n      <th>date</th>\n    </tr>\n  </thead>\n  <tbody>\n    <tr>\n      <th>0</th>\n      <td>01-10-1917</td>\n    </tr>\n    <tr>\n      <th>1</th>\n      <td>27-09-1818</td>\n    </tr>\n    <tr>\n      <th>2</th>\n      <td>07-07-2007</td>\n    </tr>\n    <tr>\n      <th>3</th>\n      <td>27-07-1779</td>\n    </tr>\n    <tr>\n      <th>4</th>\n      <td>20-09-1927</td>\n    </tr>\n  </tbody>\n</table>\n</div>"
     },
     "execution_count": 6,
     "metadata": {},
     "output_type": "execute_result"
    }
   ],
   "source": [
    "# defining datasets\n",
    "data = pd.DataFrame({'date':\n",
    "                         ['01-10-1917',\n",
    "                          '27-09-1818',\n",
    "                          '07-07-2007',\n",
    "                          '27-07-1779',\n",
    "                          '20-09-1927',\n",
    "                          ]})\n",
    "data"
   ]
  },
  {
   "cell_type": "code",
   "execution_count": 7,
   "metadata": {},
   "outputs": [
    {
     "data": {
      "text/plain": "        date  year  month  passed_years  passed_months  day_name\n0 1917-10-01  1917     10           105           1262    Monday\n1 1818-09-27  1818      9           204           2451    Sunday\n2 2007-07-07  2007      7            15            185  Saturday\n3 1779-07-27  1779      7           243           2921   Tuesday\n4 1927-09-20  1927      9            95           1143   Tuesday",
      "text/html": "<div>\n<style scoped>\n    .dataframe tbody tr th:only-of-type {\n        vertical-align: middle;\n    }\n\n    .dataframe tbody tr th {\n        vertical-align: top;\n    }\n\n    .dataframe thead th {\n        text-align: right;\n    }\n</style>\n<table border=\"1\" class=\"dataframe\">\n  <thead>\n    <tr style=\"text-align: right;\">\n      <th></th>\n      <th>date</th>\n      <th>year</th>\n      <th>month</th>\n      <th>passed_years</th>\n      <th>passed_months</th>\n      <th>day_name</th>\n    </tr>\n  </thead>\n  <tbody>\n    <tr>\n      <th>0</th>\n      <td>1917-10-01</td>\n      <td>1917</td>\n      <td>10</td>\n      <td>105</td>\n      <td>1262</td>\n      <td>Monday</td>\n    </tr>\n    <tr>\n      <th>1</th>\n      <td>1818-09-27</td>\n      <td>1818</td>\n      <td>9</td>\n      <td>204</td>\n      <td>2451</td>\n      <td>Sunday</td>\n    </tr>\n    <tr>\n      <th>2</th>\n      <td>2007-07-07</td>\n      <td>2007</td>\n      <td>7</td>\n      <td>15</td>\n      <td>185</td>\n      <td>Saturday</td>\n    </tr>\n    <tr>\n      <th>3</th>\n      <td>1779-07-27</td>\n      <td>1779</td>\n      <td>7</td>\n      <td>243</td>\n      <td>2921</td>\n      <td>Tuesday</td>\n    </tr>\n    <tr>\n      <th>4</th>\n      <td>1927-09-20</td>\n      <td>1927</td>\n      <td>9</td>\n      <td>95</td>\n      <td>1143</td>\n      <td>Tuesday</td>\n    </tr>\n  </tbody>\n</table>\n</div>"
     },
     "execution_count": 7,
     "metadata": {},
     "output_type": "execute_result"
    }
   ],
   "source": [
    "#format string to ISO datetime or any other date format\n",
    "data['date'] = pd.to_datetime(data.date, format=\"%d-%m-%Y\")\n",
    "data['year'] = data['date'].dt.year\n",
    "data['month'] = data['date'].dt.month\n",
    "data['passed_years'] = date.today().year - data['date'].dt.year\n",
    "data['passed_months'] = (date.today().year - data['date'].dt.year) * 12 + date.today().month - data['date'].dt.month\n",
    "data['day_name'] = data['date'].dt.day_name()\n",
    "\n",
    "data"
   ]
  }
 ],
 "metadata": {
  "kernelspec": {
   "display_name": "Python 3 (ipykernel)",
   "language": "python",
   "name": "python3"
  },
  "language_info": {
   "codemirror_mode": {
    "name": "ipython",
    "version": 3
   },
   "file_extension": ".py",
   "mimetype": "text/x-python",
   "name": "python",
   "nbconvert_exporter": "python",
   "pygments_lexer": "ipython3",
   "version": "3.9.7"
  }
 },
 "nbformat": 4,
 "nbformat_minor": 4
}
